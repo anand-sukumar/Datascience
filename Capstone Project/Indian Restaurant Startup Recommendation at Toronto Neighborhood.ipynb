{
 "cells": [
  {
   "cell_type": "markdown",
   "metadata": {},
   "source": [
    "# Indian Restaurant Startup Recommendation in Toronto Neighborhood"
   ]
  },
  {
   "cell_type": "markdown",
   "metadata": {},
   "source": [
    "## Web Scraping Toronto Postal Codes"
   ]
  },
  {
   "cell_type": "code",
   "execution_count": null,
   "metadata": {
    "scrolled": false
   },
   "outputs": [],
   "source": [
    "import requests\n",
    "from bs4 import BeautifulSoup\n",
    "import pandas as pd\n",
    "import json # library to handle JSON files\n",
    "import requests # library to handle requests\n",
    "# import k-means from clustering stage\n",
    "from sklearn.cluster import KMeans\n",
    "!conda install -c conda-forge folium=0.5.0 \n",
    "import folium # map rendering library"
   ]
  },
  {
   "cell_type": "code",
   "execution_count": 2,
   "metadata": {},
   "outputs": [],
   "source": [
    "URL = 'https://en.wikipedia.org/wiki/List_of_postal_codes_of_Canada:_M'"
   ]
  },
  {
   "cell_type": "code",
   "execution_count": 3,
   "metadata": {},
   "outputs": [],
   "source": [
    "page = requests.get(URL)"
   ]
  },
  {
   "cell_type": "code",
   "execution_count": 4,
   "metadata": {},
   "outputs": [],
   "source": [
    "soup = BeautifulSoup(page.text, 'html.parser')"
   ]
  },
  {
   "cell_type": "code",
   "execution_count": 5,
   "metadata": {},
   "outputs": [],
   "source": [
    "columns = ['PostalCode','Borough','Neighborhood']"
   ]
  },
  {
   "cell_type": "code",
   "execution_count": 6,
   "metadata": {},
   "outputs": [],
   "source": [
    "postaltable = soup.find_all('table')[0]"
   ]
  },
  {
   "cell_type": "markdown",
   "metadata": {},
   "source": [
    "### Converting Postal Codes html table info to Pandas Dataframe"
   ]
  },
  {
   "cell_type": "code",
   "execution_count": 7,
   "metadata": {},
   "outputs": [],
   "source": [
    "df = pd.read_html(str(postaltable))"
   ]
  },
  {
   "cell_type": "code",
   "execution_count": 8,
   "metadata": {},
   "outputs": [],
   "source": [
    "postalcodes = df[0]"
   ]
  },
  {
   "cell_type": "code",
   "execution_count": 9,
   "metadata": {},
   "outputs": [],
   "source": [
    "postalcodes.columns = columns"
   ]
  },
  {
   "cell_type": "code",
   "execution_count": 10,
   "metadata": {},
   "outputs": [
    {
     "data": {
      "text/html": [
       "<div>\n",
       "<style scoped>\n",
       "    .dataframe tbody tr th:only-of-type {\n",
       "        vertical-align: middle;\n",
       "    }\n",
       "\n",
       "    .dataframe tbody tr th {\n",
       "        vertical-align: top;\n",
       "    }\n",
       "\n",
       "    .dataframe thead th {\n",
       "        text-align: right;\n",
       "    }\n",
       "</style>\n",
       "<table border=\"1\" class=\"dataframe\">\n",
       "  <thead>\n",
       "    <tr style=\"text-align: right;\">\n",
       "      <th></th>\n",
       "      <th>PostalCode</th>\n",
       "      <th>Borough</th>\n",
       "      <th>Neighborhood</th>\n",
       "    </tr>\n",
       "  </thead>\n",
       "  <tbody>\n",
       "    <tr>\n",
       "      <th>0</th>\n",
       "      <td>M1A</td>\n",
       "      <td>Not assigned</td>\n",
       "      <td>Not assigned</td>\n",
       "    </tr>\n",
       "    <tr>\n",
       "      <th>1</th>\n",
       "      <td>M2A</td>\n",
       "      <td>Not assigned</td>\n",
       "      <td>Not assigned</td>\n",
       "    </tr>\n",
       "    <tr>\n",
       "      <th>2</th>\n",
       "      <td>M3A</td>\n",
       "      <td>North York</td>\n",
       "      <td>Parkwoods</td>\n",
       "    </tr>\n",
       "    <tr>\n",
       "      <th>3</th>\n",
       "      <td>M4A</td>\n",
       "      <td>North York</td>\n",
       "      <td>Victoria Village</td>\n",
       "    </tr>\n",
       "    <tr>\n",
       "      <th>4</th>\n",
       "      <td>M5A</td>\n",
       "      <td>Downtown Toronto</td>\n",
       "      <td>Harbourfront</td>\n",
       "    </tr>\n",
       "  </tbody>\n",
       "</table>\n",
       "</div>"
      ],
      "text/plain": [
       "  PostalCode           Borough      Neighborhood\n",
       "0        M1A      Not assigned      Not assigned\n",
       "1        M2A      Not assigned      Not assigned\n",
       "2        M3A        North York         Parkwoods\n",
       "3        M4A        North York  Victoria Village\n",
       "4        M5A  Downtown Toronto      Harbourfront"
      ]
     },
     "execution_count": 10,
     "metadata": {},
     "output_type": "execute_result"
    }
   ],
   "source": [
    "postalcodes.head()"
   ]
  },
  {
   "cell_type": "markdown",
   "metadata": {},
   "source": [
    "### Narrow down the dataframe to ignore/exclude Not Assigned Boroughs"
   ]
  },
  {
   "cell_type": "code",
   "execution_count": 11,
   "metadata": {},
   "outputs": [],
   "source": [
    "postalcodes = postalcodes[postalcodes['Borough'] != 'Not assigned']"
   ]
  },
  {
   "cell_type": "markdown",
   "metadata": {},
   "source": [
    "### Grouping the Neighborhoods w.r.t each Boroughs"
   ]
  },
  {
   "cell_type": "code",
   "execution_count": 12,
   "metadata": {},
   "outputs": [],
   "source": [
    "toronto_pcodes = postalcodes.groupby(['PostalCode','Borough'])['Neighborhood'].agg(', '.join).to_frame()"
   ]
  },
  {
   "cell_type": "code",
   "execution_count": 13,
   "metadata": {
    "scrolled": true
   },
   "outputs": [],
   "source": [
    "toronto_pcodes = toronto_pcodes.reset_index()"
   ]
  },
  {
   "cell_type": "code",
   "execution_count": 14,
   "metadata": {},
   "outputs": [
    {
     "name": "stdout",
     "output_type": "stream",
     "text": [
      "<class 'pandas.core.frame.DataFrame'>\n",
      "RangeIndex: 103 entries, 0 to 102\n",
      "Data columns (total 3 columns):\n",
      "PostalCode      103 non-null object\n",
      "Borough         103 non-null object\n",
      "Neighborhood    103 non-null object\n",
      "dtypes: object(3)\n",
      "memory usage: 2.5+ KB\n"
     ]
    }
   ],
   "source": [
    "toronto_pcodes.info()"
   ]
  },
  {
   "cell_type": "code",
   "execution_count": 15,
   "metadata": {},
   "outputs": [
    {
     "data": {
      "text/html": [
       "<div>\n",
       "<style scoped>\n",
       "    .dataframe tbody tr th:only-of-type {\n",
       "        vertical-align: middle;\n",
       "    }\n",
       "\n",
       "    .dataframe tbody tr th {\n",
       "        vertical-align: top;\n",
       "    }\n",
       "\n",
       "    .dataframe thead th {\n",
       "        text-align: right;\n",
       "    }\n",
       "</style>\n",
       "<table border=\"1\" class=\"dataframe\">\n",
       "  <thead>\n",
       "    <tr style=\"text-align: right;\">\n",
       "      <th></th>\n",
       "      <th>PostalCode</th>\n",
       "      <th>Borough</th>\n",
       "      <th>Neighborhood</th>\n",
       "    </tr>\n",
       "  </thead>\n",
       "  <tbody>\n",
       "    <tr>\n",
       "      <th>0</th>\n",
       "      <td>M1B</td>\n",
       "      <td>Scarborough</td>\n",
       "      <td>Rouge, Malvern</td>\n",
       "    </tr>\n",
       "    <tr>\n",
       "      <th>1</th>\n",
       "      <td>M1C</td>\n",
       "      <td>Scarborough</td>\n",
       "      <td>Highland Creek, Rouge Hill, Port Union</td>\n",
       "    </tr>\n",
       "    <tr>\n",
       "      <th>2</th>\n",
       "      <td>M1E</td>\n",
       "      <td>Scarborough</td>\n",
       "      <td>Guildwood, Morningside, West Hill</td>\n",
       "    </tr>\n",
       "    <tr>\n",
       "      <th>3</th>\n",
       "      <td>M1G</td>\n",
       "      <td>Scarborough</td>\n",
       "      <td>Woburn</td>\n",
       "    </tr>\n",
       "    <tr>\n",
       "      <th>4</th>\n",
       "      <td>M1H</td>\n",
       "      <td>Scarborough</td>\n",
       "      <td>Cedarbrae</td>\n",
       "    </tr>\n",
       "  </tbody>\n",
       "</table>\n",
       "</div>"
      ],
      "text/plain": [
       "  PostalCode      Borough                            Neighborhood\n",
       "0        M1B  Scarborough                          Rouge, Malvern\n",
       "1        M1C  Scarborough  Highland Creek, Rouge Hill, Port Union\n",
       "2        M1E  Scarborough       Guildwood, Morningside, West Hill\n",
       "3        M1G  Scarborough                                  Woburn\n",
       "4        M1H  Scarborough                               Cedarbrae"
      ]
     },
     "execution_count": 15,
     "metadata": {},
     "output_type": "execute_result"
    }
   ],
   "source": [
    "toronto_pcodes.head()"
   ]
  },
  {
   "cell_type": "code",
   "execution_count": 16,
   "metadata": {},
   "outputs": [
    {
     "data": {
      "text/plain": [
       "(103, 3)"
      ]
     },
     "execution_count": 16,
     "metadata": {},
     "output_type": "execute_result"
    }
   ],
   "source": [
    "toronto_pcodes.shape"
   ]
  },
  {
   "cell_type": "markdown",
   "metadata": {},
   "source": [
    "#### Overall 103 postal codes are identified and integrated in the dataframe"
   ]
  },
  {
   "cell_type": "markdown",
   "metadata": {},
   "source": [
    "# Append Coordinates with help of GeoSpatial data"
   ]
  },
  {
   "cell_type": "code",
   "execution_count": 17,
   "metadata": {},
   "outputs": [
    {
     "name": "stdout",
     "output_type": "stream",
     "text": [
      "data downloaded\n"
     ]
    }
   ],
   "source": [
    "!wget -q -O 'geospatial_coordinates.csv' http://cocl.us/Geospatial_data\n",
    "print('data downloaded')"
   ]
  },
  {
   "cell_type": "code",
   "execution_count": 18,
   "metadata": {},
   "outputs": [
    {
     "data": {
      "text/html": [
       "<div>\n",
       "<style scoped>\n",
       "    .dataframe tbody tr th:only-of-type {\n",
       "        vertical-align: middle;\n",
       "    }\n",
       "\n",
       "    .dataframe tbody tr th {\n",
       "        vertical-align: top;\n",
       "    }\n",
       "\n",
       "    .dataframe thead th {\n",
       "        text-align: right;\n",
       "    }\n",
       "</style>\n",
       "<table border=\"1\" class=\"dataframe\">\n",
       "  <thead>\n",
       "    <tr style=\"text-align: right;\">\n",
       "      <th></th>\n",
       "      <th>Postal Code</th>\n",
       "      <th>Latitude</th>\n",
       "      <th>Longitude</th>\n",
       "    </tr>\n",
       "  </thead>\n",
       "  <tbody>\n",
       "    <tr>\n",
       "      <th>0</th>\n",
       "      <td>M1B</td>\n",
       "      <td>43.806686</td>\n",
       "      <td>-79.194353</td>\n",
       "    </tr>\n",
       "    <tr>\n",
       "      <th>1</th>\n",
       "      <td>M1C</td>\n",
       "      <td>43.784535</td>\n",
       "      <td>-79.160497</td>\n",
       "    </tr>\n",
       "    <tr>\n",
       "      <th>2</th>\n",
       "      <td>M1E</td>\n",
       "      <td>43.763573</td>\n",
       "      <td>-79.188711</td>\n",
       "    </tr>\n",
       "    <tr>\n",
       "      <th>3</th>\n",
       "      <td>M1G</td>\n",
       "      <td>43.770992</td>\n",
       "      <td>-79.216917</td>\n",
       "    </tr>\n",
       "    <tr>\n",
       "      <th>4</th>\n",
       "      <td>M1H</td>\n",
       "      <td>43.773136</td>\n",
       "      <td>-79.239476</td>\n",
       "    </tr>\n",
       "  </tbody>\n",
       "</table>\n",
       "</div>"
      ],
      "text/plain": [
       "  Postal Code   Latitude  Longitude\n",
       "0         M1B  43.806686 -79.194353\n",
       "1         M1C  43.784535 -79.160497\n",
       "2         M1E  43.763573 -79.188711\n",
       "3         M1G  43.770992 -79.216917\n",
       "4         M1H  43.773136 -79.239476"
      ]
     },
     "execution_count": 18,
     "metadata": {},
     "output_type": "execute_result"
    }
   ],
   "source": [
    "geo_coord = pd.read_csv('geospatial_coordinates.csv')\n",
    "geo_coord.head()"
   ]
  },
  {
   "cell_type": "markdown",
   "metadata": {},
   "source": [
    "### Merging Coordinates with Toronto Postal Codes dataframe"
   ]
  },
  {
   "cell_type": "code",
   "execution_count": 19,
   "metadata": {},
   "outputs": [],
   "source": [
    "toronto_postal_coord = pd.merge(left=toronto_pcodes, right=geo_coord, left_on = 'PostalCode', right_on = 'Postal Code', how='inner')"
   ]
  },
  {
   "cell_type": "code",
   "execution_count": 20,
   "metadata": {},
   "outputs": [],
   "source": [
    "toronto_postal_coord.drop(columns=['Postal Code'], inplace=True)"
   ]
  },
  {
   "cell_type": "code",
   "execution_count": 21,
   "metadata": {},
   "outputs": [
    {
     "data": {
      "text/html": [
       "<div>\n",
       "<style scoped>\n",
       "    .dataframe tbody tr th:only-of-type {\n",
       "        vertical-align: middle;\n",
       "    }\n",
       "\n",
       "    .dataframe tbody tr th {\n",
       "        vertical-align: top;\n",
       "    }\n",
       "\n",
       "    .dataframe thead th {\n",
       "        text-align: right;\n",
       "    }\n",
       "</style>\n",
       "<table border=\"1\" class=\"dataframe\">\n",
       "  <thead>\n",
       "    <tr style=\"text-align: right;\">\n",
       "      <th></th>\n",
       "      <th>PostalCode</th>\n",
       "      <th>Borough</th>\n",
       "      <th>Neighborhood</th>\n",
       "      <th>Latitude</th>\n",
       "      <th>Longitude</th>\n",
       "    </tr>\n",
       "  </thead>\n",
       "  <tbody>\n",
       "    <tr>\n",
       "      <th>0</th>\n",
       "      <td>M1B</td>\n",
       "      <td>Scarborough</td>\n",
       "      <td>Rouge, Malvern</td>\n",
       "      <td>43.806686</td>\n",
       "      <td>-79.194353</td>\n",
       "    </tr>\n",
       "    <tr>\n",
       "      <th>1</th>\n",
       "      <td>M1C</td>\n",
       "      <td>Scarborough</td>\n",
       "      <td>Highland Creek, Rouge Hill, Port Union</td>\n",
       "      <td>43.784535</td>\n",
       "      <td>-79.160497</td>\n",
       "    </tr>\n",
       "    <tr>\n",
       "      <th>2</th>\n",
       "      <td>M1E</td>\n",
       "      <td>Scarborough</td>\n",
       "      <td>Guildwood, Morningside, West Hill</td>\n",
       "      <td>43.763573</td>\n",
       "      <td>-79.188711</td>\n",
       "    </tr>\n",
       "    <tr>\n",
       "      <th>3</th>\n",
       "      <td>M1G</td>\n",
       "      <td>Scarborough</td>\n",
       "      <td>Woburn</td>\n",
       "      <td>43.770992</td>\n",
       "      <td>-79.216917</td>\n",
       "    </tr>\n",
       "    <tr>\n",
       "      <th>4</th>\n",
       "      <td>M1H</td>\n",
       "      <td>Scarborough</td>\n",
       "      <td>Cedarbrae</td>\n",
       "      <td>43.773136</td>\n",
       "      <td>-79.239476</td>\n",
       "    </tr>\n",
       "  </tbody>\n",
       "</table>\n",
       "</div>"
      ],
      "text/plain": [
       "  PostalCode      Borough                            Neighborhood   Latitude  \\\n",
       "0        M1B  Scarborough                          Rouge, Malvern  43.806686   \n",
       "1        M1C  Scarborough  Highland Creek, Rouge Hill, Port Union  43.784535   \n",
       "2        M1E  Scarborough       Guildwood, Morningside, West Hill  43.763573   \n",
       "3        M1G  Scarborough                                  Woburn  43.770992   \n",
       "4        M1H  Scarborough                               Cedarbrae  43.773136   \n",
       "\n",
       "   Longitude  \n",
       "0 -79.194353  \n",
       "1 -79.160497  \n",
       "2 -79.188711  \n",
       "3 -79.216917  \n",
       "4 -79.239476  "
      ]
     },
     "execution_count": 21,
     "metadata": {},
     "output_type": "execute_result"
    }
   ],
   "source": [
    "toronto_postal_coord.head()"
   ]
  },
  {
   "cell_type": "code",
   "execution_count": 22,
   "metadata": {},
   "outputs": [],
   "source": [
    "# Toronto Coordinates\n",
    "Latitude = 43.6532\n",
    "Longitude = -79.3832"
   ]
  },
  {
   "cell_type": "markdown",
   "metadata": {},
   "source": [
    "### Toronto Neighborhood map view"
   ]
  },
  {
   "cell_type": "code",
   "execution_count": 23,
   "metadata": {},
   "outputs": [
    {
     "data": {
      "text/html": [
       "<div style=\"width:100%;\"><div style=\"position:relative;width:100%;height:0;padding-bottom:60%;\"><iframe src=\"data:text/html;charset=utf-8;base64,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\" style=\"position:absolute;width:100%;height:100%;left:0;top:0;border:none !important;\" allowfullscreen webkitallowfullscreen mozallowfullscreen></iframe></div></div>"
      ],
      "text/plain": [
       "<folium.folium.Map at 0x7f1e554247b8>"
      ]
     },
     "execution_count": 23,
     "metadata": {},
     "output_type": "execute_result"
    }
   ],
   "source": [
    "map_toronto = folium.Map(location=[Latitude, Longitude], zoom_start = 12)\n",
    "\n",
    "for lat, lng, lbl in zip(toronto_postal_coord['Latitude'], toronto_postal_coord['Longitude'], toronto_postal_coord['Neighborhood']):\n",
    "    label = folium.Popup(lbl, parse_html=True)\n",
    "    folium.CircleMarker(\n",
    "        [lat, lng],\n",
    "        radius = 5,\n",
    "        popup = label,\n",
    "        fill = True,\n",
    "        color = 'blue',\n",
    "        fill_color = 'yellow',\n",
    "        fill_opacity = 0.7,\n",
    "        parse_html = False\n",
    "    ).add_to(map_toronto)\n",
    "map_toronto"
   ]
  },
  {
   "cell_type": "markdown",
   "metadata": {},
   "source": [
    "## Explore Indian Neighborhoods in Toronto"
   ]
  },
  {
   "cell_type": "markdown",
   "metadata": {},
   "source": [
    "### Web Scraping Demographics of Toronto"
   ]
  },
  {
   "cell_type": "code",
   "execution_count": 24,
   "metadata": {},
   "outputs": [],
   "source": [
    "TorontoEthnicURL = 'https://en.wikipedia.org/wiki/Demographics_of_Toronto'"
   ]
  },
  {
   "cell_type": "code",
   "execution_count": 25,
   "metadata": {},
   "outputs": [],
   "source": [
    "EthnicPage = requests.get(TorontoEthnicURL)"
   ]
  },
  {
   "cell_type": "code",
   "execution_count": 26,
   "metadata": {},
   "outputs": [],
   "source": [
    "soup1 = BeautifulSoup(EthnicPage.text, 'html.parser')"
   ]
  },
  {
   "cell_type": "markdown",
   "metadata": {},
   "source": [
    "### Identifying the neighborhoods with highest percentage of specific Ethnic origin"
   ]
  },
  {
   "cell_type": "code",
   "execution_count": 27,
   "metadata": {
    "scrolled": true
   },
   "outputs": [
    {
     "data": {
      "text/plain": [
       "[<li>Milliken: 97% (top ethnic origin: Chinese)</li>,\n",
       " <li>Steeles: 91% (top ethnic origin: Chinese)</li>,\n",
       " <li>Agincourt North: 91% (top ethnic origin: Chinese)</li>,\n",
       " <li>Malvern: 90% (top ethnic origin: East Indian)</li>,\n",
       " <li>West Humber-Clairville: 87% (top ethnic origin: East Indian)</li>,\n",
       " <li>Mount Olive-Silverstone-Jamestown: 87% (top ethnic origin: East Indian)</li>,\n",
       " <li>Agincourt South-Malvern West: 86% (top ethnic origin: Chinese)</li>,\n",
       " <li>Black Creek: 81% (top ethnic origin: Vietnamese)</li>,\n",
       " <li>Rouge: 81% (top ethnic origin: East Indian)</li>,\n",
       " <li>Flemingdon Park: 79% (top ethnic origin: East Indian)</li>,\n",
       " <li>Thorncliffe Park: 79% (top ethnic origin: Pakistani)</li>]"
      ]
     },
     "execution_count": 27,
     "metadata": {},
     "output_type": "execute_result"
    }
   ],
   "source": [
    "for tag in soup1.findAll('p'):\n",
    "    if tag.get_text().startswith('The neighbourhoods with the highest percentage of'):\n",
    "        section = tag\n",
    "        ethnicpercentage = section.find_next('ul').find_all('li')\n",
    "ethnicpercentage"
   ]
  },
  {
   "cell_type": "markdown",
   "metadata": {},
   "source": [
    "### Transforming the web scraped data to Pandas Dataframe"
   ]
  },
  {
   "cell_type": "code",
   "execution_count": 28,
   "metadata": {},
   "outputs": [],
   "source": [
    "cols = ['Neighborhood','Top_Ethnic_Origin']\n",
    "top_neighborhood_origin = pd.DataFrame(columns=cols)\n",
    "#top_neighborhood_origin\n",
    "#top_origin = {}\n",
    "for i in range(0, len(ethnicpercentage)):\n",
    "    val = ethnicpercentage[i]\n",
    "    val = val.string.replace('top ethnic origin','')\n",
    "    val = val.replace('(','')\n",
    "    val = val.replace(')','')\n",
    "    val = val.replace(':','')\n",
    "    #top_origin[]\n",
    "    top_neighborhood_origin = top_neighborhood_origin.append( { 'Neighborhood':' '.join(val.split('%')[0].split('-')[-1].split(' ')[:-1]), 'Top_Ethnic_Origin': val.split(' ')[-1]}, ignore_index= True)\n",
    "\n",
    "\n",
    "    "
   ]
  },
  {
   "cell_type": "code",
   "execution_count": 29,
   "metadata": {},
   "outputs": [
    {
     "data": {
      "text/html": [
       "<div>\n",
       "<style scoped>\n",
       "    .dataframe tbody tr th:only-of-type {\n",
       "        vertical-align: middle;\n",
       "    }\n",
       "\n",
       "    .dataframe tbody tr th {\n",
       "        vertical-align: top;\n",
       "    }\n",
       "\n",
       "    .dataframe thead th {\n",
       "        text-align: right;\n",
       "    }\n",
       "</style>\n",
       "<table border=\"1\" class=\"dataframe\">\n",
       "  <thead>\n",
       "    <tr style=\"text-align: right;\">\n",
       "      <th></th>\n",
       "      <th>Neighborhood</th>\n",
       "      <th>Top_Ethnic_Origin</th>\n",
       "    </tr>\n",
       "  </thead>\n",
       "  <tbody>\n",
       "    <tr>\n",
       "      <th>0</th>\n",
       "      <td>Milliken</td>\n",
       "      <td>Chinese</td>\n",
       "    </tr>\n",
       "    <tr>\n",
       "      <th>1</th>\n",
       "      <td>Steeles</td>\n",
       "      <td>Chinese</td>\n",
       "    </tr>\n",
       "    <tr>\n",
       "      <th>2</th>\n",
       "      <td>Agincourt North</td>\n",
       "      <td>Chinese</td>\n",
       "    </tr>\n",
       "    <tr>\n",
       "      <th>3</th>\n",
       "      <td>Malvern</td>\n",
       "      <td>Indian</td>\n",
       "    </tr>\n",
       "    <tr>\n",
       "      <th>4</th>\n",
       "      <td>Clairville</td>\n",
       "      <td>Indian</td>\n",
       "    </tr>\n",
       "    <tr>\n",
       "      <th>5</th>\n",
       "      <td>Jamestown</td>\n",
       "      <td>Indian</td>\n",
       "    </tr>\n",
       "    <tr>\n",
       "      <th>6</th>\n",
       "      <td>Malvern West</td>\n",
       "      <td>Chinese</td>\n",
       "    </tr>\n",
       "    <tr>\n",
       "      <th>7</th>\n",
       "      <td>Black Creek</td>\n",
       "      <td>Vietnamese</td>\n",
       "    </tr>\n",
       "    <tr>\n",
       "      <th>8</th>\n",
       "      <td>Rouge</td>\n",
       "      <td>Indian</td>\n",
       "    </tr>\n",
       "    <tr>\n",
       "      <th>9</th>\n",
       "      <td>Flemingdon Park</td>\n",
       "      <td>Indian</td>\n",
       "    </tr>\n",
       "    <tr>\n",
       "      <th>10</th>\n",
       "      <td>Thorncliffe Park</td>\n",
       "      <td>Pakistani</td>\n",
       "    </tr>\n",
       "  </tbody>\n",
       "</table>\n",
       "</div>"
      ],
      "text/plain": [
       "        Neighborhood Top_Ethnic_Origin\n",
       "0           Milliken           Chinese\n",
       "1            Steeles           Chinese\n",
       "2    Agincourt North           Chinese\n",
       "3            Malvern            Indian\n",
       "4         Clairville            Indian\n",
       "5          Jamestown            Indian\n",
       "6       Malvern West           Chinese\n",
       "7        Black Creek        Vietnamese\n",
       "8              Rouge            Indian\n",
       "9    Flemingdon Park            Indian\n",
       "10  Thorncliffe Park         Pakistani"
      ]
     },
     "execution_count": 29,
     "metadata": {},
     "output_type": "execute_result"
    }
   ],
   "source": [
    "top_neighborhood_origin"
   ]
  },
  {
   "cell_type": "markdown",
   "metadata": {},
   "source": [
    "### Narrowing down to Indian Ethnic Origin Neighborhoods"
   ]
  },
  {
   "cell_type": "code",
   "execution_count": 30,
   "metadata": {},
   "outputs": [],
   "source": [
    "top_neighborhood_origin = top_neighborhood_origin[top_neighborhood_origin['Top_Ethnic_Origin'] == 'Indian']"
   ]
  },
  {
   "cell_type": "code",
   "execution_count": 31,
   "metadata": {},
   "outputs": [
    {
     "data": {
      "text/html": [
       "<div>\n",
       "<style scoped>\n",
       "    .dataframe tbody tr th:only-of-type {\n",
       "        vertical-align: middle;\n",
       "    }\n",
       "\n",
       "    .dataframe tbody tr th {\n",
       "        vertical-align: top;\n",
       "    }\n",
       "\n",
       "    .dataframe thead th {\n",
       "        text-align: right;\n",
       "    }\n",
       "</style>\n",
       "<table border=\"1\" class=\"dataframe\">\n",
       "  <thead>\n",
       "    <tr style=\"text-align: right;\">\n",
       "      <th></th>\n",
       "      <th>Neighborhood</th>\n",
       "      <th>Top_Ethnic_Origin</th>\n",
       "    </tr>\n",
       "  </thead>\n",
       "  <tbody>\n",
       "    <tr>\n",
       "      <th>3</th>\n",
       "      <td>Malvern</td>\n",
       "      <td>Indian</td>\n",
       "    </tr>\n",
       "    <tr>\n",
       "      <th>4</th>\n",
       "      <td>Clairville</td>\n",
       "      <td>Indian</td>\n",
       "    </tr>\n",
       "    <tr>\n",
       "      <th>5</th>\n",
       "      <td>Jamestown</td>\n",
       "      <td>Indian</td>\n",
       "    </tr>\n",
       "    <tr>\n",
       "      <th>8</th>\n",
       "      <td>Rouge</td>\n",
       "      <td>Indian</td>\n",
       "    </tr>\n",
       "    <tr>\n",
       "      <th>9</th>\n",
       "      <td>Flemingdon Park</td>\n",
       "      <td>Indian</td>\n",
       "    </tr>\n",
       "  </tbody>\n",
       "</table>\n",
       "</div>"
      ],
      "text/plain": [
       "      Neighborhood Top_Ethnic_Origin\n",
       "3          Malvern            Indian\n",
       "4       Clairville            Indian\n",
       "5        Jamestown            Indian\n",
       "8            Rouge            Indian\n",
       "9  Flemingdon Park            Indian"
      ]
     },
     "execution_count": 31,
     "metadata": {},
     "output_type": "execute_result"
    }
   ],
   "source": [
    "top_neighborhood_origin"
   ]
  },
  {
   "cell_type": "markdown",
   "metadata": {},
   "source": [
    "##### Translating specific Neighborhoods to actual or alias neighborhoods to match the postal codes data"
   ]
  },
  {
   "cell_type": "code",
   "execution_count": null,
   "metadata": {
    "scrolled": true
   },
   "outputs": [],
   "source": [
    "top_neighborhood_origin.loc[top_neighborhood_origin['Neighborhood'] == 'Clairville', 'Neighborhood'] = 'Northwest'"
   ]
  },
  {
   "cell_type": "code",
   "execution_count": 33,
   "metadata": {},
   "outputs": [
    {
     "data": {
      "text/html": [
       "<div>\n",
       "<style scoped>\n",
       "    .dataframe tbody tr th:only-of-type {\n",
       "        vertical-align: middle;\n",
       "    }\n",
       "\n",
       "    .dataframe tbody tr th {\n",
       "        vertical-align: top;\n",
       "    }\n",
       "\n",
       "    .dataframe thead th {\n",
       "        text-align: right;\n",
       "    }\n",
       "</style>\n",
       "<table border=\"1\" class=\"dataframe\">\n",
       "  <thead>\n",
       "    <tr style=\"text-align: right;\">\n",
       "      <th></th>\n",
       "      <th>Neighborhood</th>\n",
       "      <th>Top_Ethnic_Origin</th>\n",
       "    </tr>\n",
       "  </thead>\n",
       "  <tbody>\n",
       "    <tr>\n",
       "      <th>3</th>\n",
       "      <td>Malvern</td>\n",
       "      <td>Indian</td>\n",
       "    </tr>\n",
       "    <tr>\n",
       "      <th>4</th>\n",
       "      <td>Northwest</td>\n",
       "      <td>Indian</td>\n",
       "    </tr>\n",
       "    <tr>\n",
       "      <th>5</th>\n",
       "      <td>Jamestown</td>\n",
       "      <td>Indian</td>\n",
       "    </tr>\n",
       "    <tr>\n",
       "      <th>8</th>\n",
       "      <td>Rouge</td>\n",
       "      <td>Indian</td>\n",
       "    </tr>\n",
       "    <tr>\n",
       "      <th>9</th>\n",
       "      <td>Flemingdon Park</td>\n",
       "      <td>Indian</td>\n",
       "    </tr>\n",
       "  </tbody>\n",
       "</table>\n",
       "</div>"
      ],
      "text/plain": [
       "      Neighborhood Top_Ethnic_Origin\n",
       "3          Malvern            Indian\n",
       "4        Northwest            Indian\n",
       "5        Jamestown            Indian\n",
       "8            Rouge            Indian\n",
       "9  Flemingdon Park            Indian"
      ]
     },
     "execution_count": 33,
     "metadata": {},
     "output_type": "execute_result"
    }
   ],
   "source": [
    "top_neighborhood_origin"
   ]
  },
  {
   "cell_type": "markdown",
   "metadata": {},
   "source": [
    "### Merging with Postal codes and Borough info"
   ]
  },
  {
   "cell_type": "code",
   "execution_count": 34,
   "metadata": {},
   "outputs": [],
   "source": [
    "Indian_neighborhood = pd.merge(left=top_neighborhood_origin, right=postalcodes, left_on='Neighborhood', right_on='Neighborhood', how='inner')"
   ]
  },
  {
   "cell_type": "code",
   "execution_count": 35,
   "metadata": {},
   "outputs": [
    {
     "data": {
      "text/html": [
       "<div>\n",
       "<style scoped>\n",
       "    .dataframe tbody tr th:only-of-type {\n",
       "        vertical-align: middle;\n",
       "    }\n",
       "\n",
       "    .dataframe tbody tr th {\n",
       "        vertical-align: top;\n",
       "    }\n",
       "\n",
       "    .dataframe thead th {\n",
       "        text-align: right;\n",
       "    }\n",
       "</style>\n",
       "<table border=\"1\" class=\"dataframe\">\n",
       "  <thead>\n",
       "    <tr style=\"text-align: right;\">\n",
       "      <th></th>\n",
       "      <th>Neighborhood</th>\n",
       "      <th>Top_Ethnic_Origin</th>\n",
       "      <th>PostalCode</th>\n",
       "      <th>Borough</th>\n",
       "    </tr>\n",
       "  </thead>\n",
       "  <tbody>\n",
       "    <tr>\n",
       "      <th>0</th>\n",
       "      <td>Malvern</td>\n",
       "      <td>Indian</td>\n",
       "      <td>M1B</td>\n",
       "      <td>Scarborough</td>\n",
       "    </tr>\n",
       "    <tr>\n",
       "      <th>1</th>\n",
       "      <td>Northwest</td>\n",
       "      <td>Indian</td>\n",
       "      <td>M9W</td>\n",
       "      <td>Etobicoke</td>\n",
       "    </tr>\n",
       "    <tr>\n",
       "      <th>2</th>\n",
       "      <td>Jamestown</td>\n",
       "      <td>Indian</td>\n",
       "      <td>M9V</td>\n",
       "      <td>Etobicoke</td>\n",
       "    </tr>\n",
       "    <tr>\n",
       "      <th>3</th>\n",
       "      <td>Rouge</td>\n",
       "      <td>Indian</td>\n",
       "      <td>M1B</td>\n",
       "      <td>Scarborough</td>\n",
       "    </tr>\n",
       "    <tr>\n",
       "      <th>4</th>\n",
       "      <td>Flemingdon Park</td>\n",
       "      <td>Indian</td>\n",
       "      <td>M3C</td>\n",
       "      <td>North York</td>\n",
       "    </tr>\n",
       "  </tbody>\n",
       "</table>\n",
       "</div>"
      ],
      "text/plain": [
       "      Neighborhood Top_Ethnic_Origin PostalCode      Borough\n",
       "0          Malvern            Indian        M1B  Scarborough\n",
       "1        Northwest            Indian        M9W    Etobicoke\n",
       "2        Jamestown            Indian        M9V    Etobicoke\n",
       "3            Rouge            Indian        M1B  Scarborough\n",
       "4  Flemingdon Park            Indian        M3C   North York"
      ]
     },
     "execution_count": 35,
     "metadata": {},
     "output_type": "execute_result"
    }
   ],
   "source": [
    "Indian_neighborhood"
   ]
  },
  {
   "cell_type": "markdown",
   "metadata": {},
   "source": [
    "### Merging with Coordinates using Geospatial data"
   ]
  },
  {
   "cell_type": "code",
   "execution_count": 36,
   "metadata": {},
   "outputs": [],
   "source": [
    "Indian_neighborhood = pd.merge(left=Indian_neighborhood, right=geo_coord, left_on='PostalCode', right_on='Postal Code', how='left')"
   ]
  },
  {
   "cell_type": "code",
   "execution_count": 37,
   "metadata": {},
   "outputs": [],
   "source": [
    "Indian_neighborhood.drop(columns=['Postal Code'], axis=1, inplace=True)"
   ]
  },
  {
   "cell_type": "code",
   "execution_count": 38,
   "metadata": {},
   "outputs": [
    {
     "data": {
      "text/html": [
       "<div>\n",
       "<style scoped>\n",
       "    .dataframe tbody tr th:only-of-type {\n",
       "        vertical-align: middle;\n",
       "    }\n",
       "\n",
       "    .dataframe tbody tr th {\n",
       "        vertical-align: top;\n",
       "    }\n",
       "\n",
       "    .dataframe thead th {\n",
       "        text-align: right;\n",
       "    }\n",
       "</style>\n",
       "<table border=\"1\" class=\"dataframe\">\n",
       "  <thead>\n",
       "    <tr style=\"text-align: right;\">\n",
       "      <th></th>\n",
       "      <th>Neighborhood</th>\n",
       "      <th>Top_Ethnic_Origin</th>\n",
       "      <th>PostalCode</th>\n",
       "      <th>Borough</th>\n",
       "      <th>Latitude</th>\n",
       "      <th>Longitude</th>\n",
       "    </tr>\n",
       "  </thead>\n",
       "  <tbody>\n",
       "    <tr>\n",
       "      <th>0</th>\n",
       "      <td>Malvern</td>\n",
       "      <td>Indian</td>\n",
       "      <td>M1B</td>\n",
       "      <td>Scarborough</td>\n",
       "      <td>43.806686</td>\n",
       "      <td>-79.194353</td>\n",
       "    </tr>\n",
       "    <tr>\n",
       "      <th>1</th>\n",
       "      <td>Northwest</td>\n",
       "      <td>Indian</td>\n",
       "      <td>M9W</td>\n",
       "      <td>Etobicoke</td>\n",
       "      <td>43.706748</td>\n",
       "      <td>-79.594054</td>\n",
       "    </tr>\n",
       "    <tr>\n",
       "      <th>2</th>\n",
       "      <td>Jamestown</td>\n",
       "      <td>Indian</td>\n",
       "      <td>M9V</td>\n",
       "      <td>Etobicoke</td>\n",
       "      <td>43.739416</td>\n",
       "      <td>-79.588437</td>\n",
       "    </tr>\n",
       "    <tr>\n",
       "      <th>3</th>\n",
       "      <td>Rouge</td>\n",
       "      <td>Indian</td>\n",
       "      <td>M1B</td>\n",
       "      <td>Scarborough</td>\n",
       "      <td>43.806686</td>\n",
       "      <td>-79.194353</td>\n",
       "    </tr>\n",
       "    <tr>\n",
       "      <th>4</th>\n",
       "      <td>Flemingdon Park</td>\n",
       "      <td>Indian</td>\n",
       "      <td>M3C</td>\n",
       "      <td>North York</td>\n",
       "      <td>43.725900</td>\n",
       "      <td>-79.340923</td>\n",
       "    </tr>\n",
       "  </tbody>\n",
       "</table>\n",
       "</div>"
      ],
      "text/plain": [
       "      Neighborhood Top_Ethnic_Origin PostalCode      Borough   Latitude  \\\n",
       "0          Malvern            Indian        M1B  Scarborough  43.806686   \n",
       "1        Northwest            Indian        M9W    Etobicoke  43.706748   \n",
       "2        Jamestown            Indian        M9V    Etobicoke  43.739416   \n",
       "3            Rouge            Indian        M1B  Scarborough  43.806686   \n",
       "4  Flemingdon Park            Indian        M3C   North York  43.725900   \n",
       "\n",
       "   Longitude  \n",
       "0 -79.194353  \n",
       "1 -79.594054  \n",
       "2 -79.588437  \n",
       "3 -79.194353  \n",
       "4 -79.340923  "
      ]
     },
     "execution_count": 38,
     "metadata": {},
     "output_type": "execute_result"
    }
   ],
   "source": [
    "Indian_neighborhood"
   ]
  },
  {
   "cell_type": "markdown",
   "metadata": {},
   "source": [
    "### Toronto Indian Neighborhood map view"
   ]
  },
  {
   "cell_type": "code",
   "execution_count": 39,
   "metadata": {},
   "outputs": [
    {
     "data": {
      "text/html": [
       "<div style=\"width:100%;\"><div style=\"position:relative;width:100%;height:0;padding-bottom:60%;\"><iframe src=\"data:text/html;charset=utf-8;base64,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\" style=\"position:absolute;width:100%;height:100%;left:0;top:0;border:none !important;\" allowfullscreen webkitallowfullscreen mozallowfullscreen></iframe></div></div>"
      ],
      "text/plain": [
       "<folium.folium.Map at 0x7f1e4f0db588>"
      ]
     },
     "execution_count": 39,
     "metadata": {},
     "output_type": "execute_result"
    }
   ],
   "source": [
    "map_indian_toronto = folium.Map(location=[Latitude, Longitude], zoom_start = 11)\n",
    "\n",
    "for lat, lng, lbl in zip(Indian_neighborhood['Latitude'], Indian_neighborhood['Longitude'], Indian_neighborhood['Neighborhood']):\n",
    "    label = folium.Popup(lbl, parse_html=True)\n",
    "    folium.CircleMarker(\n",
    "        [lat, lng],\n",
    "        radius = 7,\n",
    "        popup = label,\n",
    "        fill = True,\n",
    "        color = 'Blue',\n",
    "        fill_color = 'Yellow',\n",
    "        fill_opacity = 0.7,\n",
    "        parse_html = False\n",
    "    ).add_to(map_indian_toronto)\n",
    "map_indian_toronto"
   ]
  },
  {
   "cell_type": "markdown",
   "metadata": {},
   "source": [
    "### Let's create a function to consume the Foursquare API which returns the Venues details based on the Neighborhood Coordinates requested"
   ]
  },
  {
   "cell_type": "markdown",
   "metadata": {},
   "source": [
    "### Define Foursquare Credentials and Version"
   ]
  },
  {
   "cell_type": "code",
   "execution_count": 40,
   "metadata": {},
   "outputs": [],
   "source": [
    "# @hidden_cell\n",
    "\n",
    "CLIENT_ID = '1XWYOQ0GV5OZHK4E2J2N051LVBLAQGSNW3GBHUZXBZI3RPDW' # your Foursquare ID\n",
    "CLIENT_SECRET = 'MHSY1JRZTVAFLUYQ0R4HIQVQLQ5XM5THVUBYSWJ4D32XRGLH' # your Foursquare Secret\n",
    "VERSION = '20180605' # Foursquare API version\n",
    "\n",
    "#print('Your credentails:')\n",
    "#print('CLIENT_ID: ' + CLIENT_ID)\n",
    "#print('CLIENT_SECRET:' + CLIENT_SECRET)"
   ]
  },
  {
   "cell_type": "code",
   "execution_count": 65,
   "metadata": {},
   "outputs": [],
   "source": [
    "def getNearbyVenues(names, latitudes, longitudes, radius=1000):\n",
    "    \n",
    "    venues_list=[]\n",
    "    LIMIT = 20\n",
    "    for name, lat, lng in zip(names, latitudes, longitudes):\n",
    "        print(name)\n",
    "            \n",
    "        # create the API request URL\n",
    "        url = 'https://api.foursquare.com/v2/venues/explore?&client_id={}&client_secret={}&v={}&ll={},{}&radius={}&limit={}'.format(\n",
    "            CLIENT_ID, \n",
    "            CLIENT_SECRET, \n",
    "            VERSION, \n",
    "            lat, \n",
    "            lng, \n",
    "            radius, \n",
    "            LIMIT)\n",
    "            \n",
    "        # make the GET request\n",
    "        results = requests.get(url).json()[\"response\"]['groups'][0]['items']\n",
    "        \n",
    "        # return only relevant information for each nearby venue\n",
    "        venues_list.append([(\n",
    "            name, \n",
    "            lat, \n",
    "            lng, \n",
    "            v['venue']['name'], \n",
    "            v['venue']['location']['lat'], \n",
    "            v['venue']['location']['lng'],  \n",
    "            v['venue']['categories'][0]['name']) for v in results])\n",
    "\n",
    "    nearby_venues = pd.DataFrame([item for venue_list in venues_list for item in venue_list])\n",
    "    nearby_venues.columns = ['Neighborhood', \n",
    "                  'Neighborhood Latitude', \n",
    "                  'Neighborhood Longitude', \n",
    "                  'Venue', \n",
    "                  'Venue Latitude', \n",
    "                  'Venue Longitude', \n",
    "                  'Venue Category']\n",
    "    \n",
    "    return(nearby_venues)"
   ]
  },
  {
   "cell_type": "markdown",
   "metadata": {},
   "source": [
    "### Fetch the Venues of corresponding Indian Neighborhoods"
   ]
  },
  {
   "cell_type": "code",
   "execution_count": 66,
   "metadata": {},
   "outputs": [
    {
     "name": "stdout",
     "output_type": "stream",
     "text": [
      "Flemingdon Park\n",
      "Jamestown\n",
      "Malvern\n",
      "Northwest\n",
      "Rouge\n"
     ]
    }
   ],
   "source": [
    "Indian_neighborhood_venues = getNearbyVenues(names=Indian_neighborhood['Neighborhood'],\n",
    "                                   latitudes=Indian_neighborhood['Latitude'],\n",
    "                                   longitudes=Indian_neighborhood['Longitude']\n",
    "                                  )"
   ]
  },
  {
   "cell_type": "code",
   "execution_count": 67,
   "metadata": {},
   "outputs": [
    {
     "name": "stdout",
     "output_type": "stream",
     "text": [
      "Number of unique Categories of Venues present in Indian Neighborhood : 40\n"
     ]
    }
   ],
   "source": [
    "print('Number of unique Categories of Venues present in Indian Neighborhood : {}'.format(len(Indian_neighborhood_venues['Venue Category'].unique())))"
   ]
  },
  {
   "cell_type": "code",
   "execution_count": 98,
   "metadata": {},
   "outputs": [
    {
     "data": {
      "text/html": [
       "<div>\n",
       "<style scoped>\n",
       "    .dataframe tbody tr th:only-of-type {\n",
       "        vertical-align: middle;\n",
       "    }\n",
       "\n",
       "    .dataframe tbody tr th {\n",
       "        vertical-align: top;\n",
       "    }\n",
       "\n",
       "    .dataframe thead th {\n",
       "        text-align: right;\n",
       "    }\n",
       "</style>\n",
       "<table border=\"1\" class=\"dataframe\">\n",
       "  <thead>\n",
       "    <tr style=\"text-align: right;\">\n",
       "      <th></th>\n",
       "      <th>Neighborhood</th>\n",
       "      <th>Neighborhood Latitude</th>\n",
       "      <th>Neighborhood Longitude</th>\n",
       "      <th>Venue</th>\n",
       "      <th>Venue Latitude</th>\n",
       "      <th>Venue Longitude</th>\n",
       "      <th>Venue Category</th>\n",
       "    </tr>\n",
       "  </thead>\n",
       "  <tbody>\n",
       "    <tr>\n",
       "      <th>0</th>\n",
       "      <td>Flemingdon Park</td>\n",
       "      <td>43.7259</td>\n",
       "      <td>-79.340923</td>\n",
       "      <td>Sorento Restaurant</td>\n",
       "      <td>43.726575</td>\n",
       "      <td>-79.341989</td>\n",
       "      <td>Italian Restaurant</td>\n",
       "    </tr>\n",
       "    <tr>\n",
       "      <th>1</th>\n",
       "      <td>Flemingdon Park</td>\n",
       "      <td>43.7259</td>\n",
       "      <td>-79.340923</td>\n",
       "      <td>Oomomo</td>\n",
       "      <td>43.726429</td>\n",
       "      <td>-79.343283</td>\n",
       "      <td>Discount Store</td>\n",
       "    </tr>\n",
       "    <tr>\n",
       "      <th>2</th>\n",
       "      <td>Flemingdon Park</td>\n",
       "      <td>43.7259</td>\n",
       "      <td>-79.340923</td>\n",
       "      <td>Fitness Connection</td>\n",
       "      <td>43.727473</td>\n",
       "      <td>-79.341707</td>\n",
       "      <td>Gym</td>\n",
       "    </tr>\n",
       "    <tr>\n",
       "      <th>3</th>\n",
       "      <td>Flemingdon Park</td>\n",
       "      <td>43.7259</td>\n",
       "      <td>-79.340923</td>\n",
       "      <td>Aga Khan Museum</td>\n",
       "      <td>43.725105</td>\n",
       "      <td>-79.332076</td>\n",
       "      <td>History Museum</td>\n",
       "    </tr>\n",
       "    <tr>\n",
       "      <th>4</th>\n",
       "      <td>Flemingdon Park</td>\n",
       "      <td>43.7259</td>\n",
       "      <td>-79.340923</td>\n",
       "      <td>Tilley Endurables</td>\n",
       "      <td>43.727033</td>\n",
       "      <td>-79.342926</td>\n",
       "      <td>Clothing Store</td>\n",
       "    </tr>\n",
       "    <tr>\n",
       "      <th>5</th>\n",
       "      <td>Flemingdon Park</td>\n",
       "      <td>43.7259</td>\n",
       "      <td>-79.340923</td>\n",
       "      <td>Japanese Canadian Cultural Centre</td>\n",
       "      <td>43.726429</td>\n",
       "      <td>-79.334971</td>\n",
       "      <td>Concert Hall</td>\n",
       "    </tr>\n",
       "    <tr>\n",
       "      <th>6</th>\n",
       "      <td>Flemingdon Park</td>\n",
       "      <td>43.7259</td>\n",
       "      <td>-79.340923</td>\n",
       "      <td>Kaiseki Yu-Zen Hashimoto</td>\n",
       "      <td>43.720931</td>\n",
       "      <td>-79.337185</td>\n",
       "      <td>Japanese Restaurant</td>\n",
       "    </tr>\n",
       "    <tr>\n",
       "      <th>7</th>\n",
       "      <td>Flemingdon Park</td>\n",
       "      <td>43.7259</td>\n",
       "      <td>-79.340923</td>\n",
       "      <td>Swiss Chalet Rotisserie &amp; Grill</td>\n",
       "      <td>43.726737</td>\n",
       "      <td>-79.341403</td>\n",
       "      <td>Restaurant</td>\n",
       "    </tr>\n",
       "    <tr>\n",
       "      <th>8</th>\n",
       "      <td>Flemingdon Park</td>\n",
       "      <td>43.7259</td>\n",
       "      <td>-79.340923</td>\n",
       "      <td>Diwan</td>\n",
       "      <td>43.725002</td>\n",
       "      <td>-79.332019</td>\n",
       "      <td>Middle Eastern Restaurant</td>\n",
       "    </tr>\n",
       "    <tr>\n",
       "      <th>9</th>\n",
       "      <td>Flemingdon Park</td>\n",
       "      <td>43.7259</td>\n",
       "      <td>-79.340923</td>\n",
       "      <td>JOEY Don Mills</td>\n",
       "      <td>43.733990</td>\n",
       "      <td>-79.344734</td>\n",
       "      <td>Restaurant</td>\n",
       "    </tr>\n",
       "    <tr>\n",
       "      <th>10</th>\n",
       "      <td>Flemingdon Park</td>\n",
       "      <td>43.7259</td>\n",
       "      <td>-79.340923</td>\n",
       "      <td>Skiis and Biikes</td>\n",
       "      <td>43.726351</td>\n",
       "      <td>-79.342977</td>\n",
       "      <td>Bike Shop</td>\n",
       "    </tr>\n",
       "    <tr>\n",
       "      <th>11</th>\n",
       "      <td>Flemingdon Park</td>\n",
       "      <td>43.7259</td>\n",
       "      <td>-79.340923</td>\n",
       "      <td>Ice 'n Cake</td>\n",
       "      <td>43.734292</td>\n",
       "      <td>-79.345198</td>\n",
       "      <td>Ice Cream Shop</td>\n",
       "    </tr>\n",
       "    <tr>\n",
       "      <th>12</th>\n",
       "      <td>Flemingdon Park</td>\n",
       "      <td>43.7259</td>\n",
       "      <td>-79.340923</td>\n",
       "      <td>Bier Markt</td>\n",
       "      <td>43.733699</td>\n",
       "      <td>-79.344678</td>\n",
       "      <td>Bar</td>\n",
       "    </tr>\n",
       "    <tr>\n",
       "      <th>13</th>\n",
       "      <td>Flemingdon Park</td>\n",
       "      <td>43.7259</td>\n",
       "      <td>-79.340923</td>\n",
       "      <td>Just Hockey Source For Sports</td>\n",
       "      <td>43.727095</td>\n",
       "      <td>-79.342591</td>\n",
       "      <td>Sporting Goods Shop</td>\n",
       "    </tr>\n",
       "    <tr>\n",
       "      <th>14</th>\n",
       "      <td>Flemingdon Park</td>\n",
       "      <td>43.7259</td>\n",
       "      <td>-79.340923</td>\n",
       "      <td>Tim Hortons</td>\n",
       "      <td>43.722897</td>\n",
       "      <td>-79.339117</td>\n",
       "      <td>Coffee Shop</td>\n",
       "    </tr>\n",
       "    <tr>\n",
       "      <th>15</th>\n",
       "      <td>Flemingdon Park</td>\n",
       "      <td>43.7259</td>\n",
       "      <td>-79.340923</td>\n",
       "      <td>The Beer Store</td>\n",
       "      <td>43.726987</td>\n",
       "      <td>-79.341494</td>\n",
       "      <td>Beer Store</td>\n",
       "    </tr>\n",
       "    <tr>\n",
       "      <th>16</th>\n",
       "      <td>Flemingdon Park</td>\n",
       "      <td>43.7259</td>\n",
       "      <td>-79.340923</td>\n",
       "      <td>Anthropologie</td>\n",
       "      <td>43.733996</td>\n",
       "      <td>-79.345564</td>\n",
       "      <td>Women's Store</td>\n",
       "    </tr>\n",
       "    <tr>\n",
       "      <th>17</th>\n",
       "      <td>Flemingdon Park</td>\n",
       "      <td>43.7259</td>\n",
       "      <td>-79.340923</td>\n",
       "      <td>Real Canadian Superstore</td>\n",
       "      <td>43.722704</td>\n",
       "      <td>-79.337508</td>\n",
       "      <td>Supermarket</td>\n",
       "    </tr>\n",
       "    <tr>\n",
       "      <th>18</th>\n",
       "      <td>Flemingdon Park</td>\n",
       "      <td>43.7259</td>\n",
       "      <td>-79.340923</td>\n",
       "      <td>South St. Burger</td>\n",
       "      <td>43.734274</td>\n",
       "      <td>-79.343655</td>\n",
       "      <td>Burger Joint</td>\n",
       "    </tr>\n",
       "    <tr>\n",
       "      <th>19</th>\n",
       "      <td>Flemingdon Park</td>\n",
       "      <td>43.7259</td>\n",
       "      <td>-79.340923</td>\n",
       "      <td>TD Canada Trust</td>\n",
       "      <td>43.733412</td>\n",
       "      <td>-79.345639</td>\n",
       "      <td>Bank</td>\n",
       "    </tr>\n",
       "  </tbody>\n",
       "</table>\n",
       "</div>"
      ],
      "text/plain": [
       "       Neighborhood  Neighborhood Latitude  Neighborhood Longitude  \\\n",
       "0   Flemingdon Park                43.7259              -79.340923   \n",
       "1   Flemingdon Park                43.7259              -79.340923   \n",
       "2   Flemingdon Park                43.7259              -79.340923   \n",
       "3   Flemingdon Park                43.7259              -79.340923   \n",
       "4   Flemingdon Park                43.7259              -79.340923   \n",
       "5   Flemingdon Park                43.7259              -79.340923   \n",
       "6   Flemingdon Park                43.7259              -79.340923   \n",
       "7   Flemingdon Park                43.7259              -79.340923   \n",
       "8   Flemingdon Park                43.7259              -79.340923   \n",
       "9   Flemingdon Park                43.7259              -79.340923   \n",
       "10  Flemingdon Park                43.7259              -79.340923   \n",
       "11  Flemingdon Park                43.7259              -79.340923   \n",
       "12  Flemingdon Park                43.7259              -79.340923   \n",
       "13  Flemingdon Park                43.7259              -79.340923   \n",
       "14  Flemingdon Park                43.7259              -79.340923   \n",
       "15  Flemingdon Park                43.7259              -79.340923   \n",
       "16  Flemingdon Park                43.7259              -79.340923   \n",
       "17  Flemingdon Park                43.7259              -79.340923   \n",
       "18  Flemingdon Park                43.7259              -79.340923   \n",
       "19  Flemingdon Park                43.7259              -79.340923   \n",
       "\n",
       "                                Venue  Venue Latitude  Venue Longitude  \\\n",
       "0                  Sorento Restaurant       43.726575       -79.341989   \n",
       "1                              Oomomo       43.726429       -79.343283   \n",
       "2                  Fitness Connection       43.727473       -79.341707   \n",
       "3                     Aga Khan Museum       43.725105       -79.332076   \n",
       "4                   Tilley Endurables       43.727033       -79.342926   \n",
       "5   Japanese Canadian Cultural Centre       43.726429       -79.334971   \n",
       "6            Kaiseki Yu-Zen Hashimoto       43.720931       -79.337185   \n",
       "7     Swiss Chalet Rotisserie & Grill       43.726737       -79.341403   \n",
       "8                               Diwan       43.725002       -79.332019   \n",
       "9                      JOEY Don Mills       43.733990       -79.344734   \n",
       "10                   Skiis and Biikes       43.726351       -79.342977   \n",
       "11                        Ice 'n Cake       43.734292       -79.345198   \n",
       "12                         Bier Markt       43.733699       -79.344678   \n",
       "13      Just Hockey Source For Sports       43.727095       -79.342591   \n",
       "14                        Tim Hortons       43.722897       -79.339117   \n",
       "15                     The Beer Store       43.726987       -79.341494   \n",
       "16                      Anthropologie       43.733996       -79.345564   \n",
       "17           Real Canadian Superstore       43.722704       -79.337508   \n",
       "18                   South St. Burger       43.734274       -79.343655   \n",
       "19                    TD Canada Trust       43.733412       -79.345639   \n",
       "\n",
       "               Venue Category  \n",
       "0          Italian Restaurant  \n",
       "1              Discount Store  \n",
       "2                         Gym  \n",
       "3              History Museum  \n",
       "4              Clothing Store  \n",
       "5                Concert Hall  \n",
       "6         Japanese Restaurant  \n",
       "7                  Restaurant  \n",
       "8   Middle Eastern Restaurant  \n",
       "9                  Restaurant  \n",
       "10                  Bike Shop  \n",
       "11             Ice Cream Shop  \n",
       "12                        Bar  \n",
       "13        Sporting Goods Shop  \n",
       "14                Coffee Shop  \n",
       "15                 Beer Store  \n",
       "16              Women's Store  \n",
       "17                Supermarket  \n",
       "18               Burger Joint  \n",
       "19                       Bank  "
      ]
     },
     "execution_count": 98,
     "metadata": {},
     "output_type": "execute_result"
    }
   ],
   "source": [
    "Indian_neighborhood_venues.head(20)"
   ]
  },
  {
   "cell_type": "markdown",
   "metadata": {},
   "source": [
    "### Grouping Stats of Venues per Indian Neighborhood"
   ]
  },
  {
   "cell_type": "code",
   "execution_count": 69,
   "metadata": {},
   "outputs": [],
   "source": [
    "Indian_neighborhood_stat = Indian_neighborhood_venues.groupby(['Neighborhood'])['Venue'].count().to_frame()"
   ]
  },
  {
   "cell_type": "code",
   "execution_count": 70,
   "metadata": {},
   "outputs": [],
   "source": [
    "Indian_neighborhood_stat = Indian_neighborhood_stat.reset_index()"
   ]
  },
  {
   "cell_type": "code",
   "execution_count": 71,
   "metadata": {},
   "outputs": [
    {
     "data": {
      "text/html": [
       "<div>\n",
       "<style scoped>\n",
       "    .dataframe tbody tr th:only-of-type {\n",
       "        vertical-align: middle;\n",
       "    }\n",
       "\n",
       "    .dataframe tbody tr th {\n",
       "        vertical-align: top;\n",
       "    }\n",
       "\n",
       "    .dataframe thead th {\n",
       "        text-align: right;\n",
       "    }\n",
       "</style>\n",
       "<table border=\"1\" class=\"dataframe\">\n",
       "  <thead>\n",
       "    <tr style=\"text-align: right;\">\n",
       "      <th></th>\n",
       "      <th>Neighborhood</th>\n",
       "      <th>Venue</th>\n",
       "    </tr>\n",
       "  </thead>\n",
       "  <tbody>\n",
       "    <tr>\n",
       "      <th>0</th>\n",
       "      <td>Flemingdon Park</td>\n",
       "      <td>20</td>\n",
       "    </tr>\n",
       "    <tr>\n",
       "      <th>1</th>\n",
       "      <td>Jamestown</td>\n",
       "      <td>15</td>\n",
       "    </tr>\n",
       "    <tr>\n",
       "      <th>2</th>\n",
       "      <td>Malvern</td>\n",
       "      <td>18</td>\n",
       "    </tr>\n",
       "    <tr>\n",
       "      <th>3</th>\n",
       "      <td>Northwest</td>\n",
       "      <td>2</td>\n",
       "    </tr>\n",
       "    <tr>\n",
       "      <th>4</th>\n",
       "      <td>Rouge</td>\n",
       "      <td>18</td>\n",
       "    </tr>\n",
       "  </tbody>\n",
       "</table>\n",
       "</div>"
      ],
      "text/plain": [
       "      Neighborhood  Venue\n",
       "0  Flemingdon Park     20\n",
       "1        Jamestown     15\n",
       "2          Malvern     18\n",
       "3        Northwest      2\n",
       "4            Rouge     18"
      ]
     },
     "execution_count": 71,
     "metadata": {},
     "output_type": "execute_result"
    }
   ],
   "source": [
    "Indian_neighborhood_stat"
   ]
  },
  {
   "cell_type": "markdown",
   "metadata": {},
   "source": [
    "### Visual Exploration of Group stats"
   ]
  },
  {
   "cell_type": "markdown",
   "metadata": {},
   "source": [
    "#### Venue Stats at Indian Origin Neighborhoods"
   ]
  },
  {
   "cell_type": "code",
   "execution_count": 72,
   "metadata": {},
   "outputs": [
    {
     "data": {
      "image/png": "[encoded data removed]",
      "text/plain": [
       "<Figure size 432x288 with 1 Axes>"
      ]
     },
     "metadata": {
      "needs_background": "light"
     },
     "output_type": "display_data"
    }
   ],
   "source": [
    "import matplotlib.pyplot as plt\n",
    "\n",
    "Indian_neighborhood_stat.plot(kind='bar', x='Neighborhood',y='Venue', label='Venue Count', fontsize=12)\n",
    "plt.title('Venue Stats at Indian Origin Neighborhoods', fontsize=14)\n",
    "plt.xticks(rotation=70)\n",
    "plt.xlabel('Neighborhood', fontsize=12)\n",
    "plt.show()"
   ]
  },
  {
   "cell_type": "markdown",
   "metadata": {},
   "source": [
    "#### Restaurant Venue Stats at Indian Origin Neighborhoods"
   ]
  },
  {
   "cell_type": "code",
   "execution_count": 73,
   "metadata": {},
   "outputs": [],
   "source": [
    "Indian_neighborhood_restaurant_venues = Indian_neighborhood_venues.loc[Indian_neighborhood_venues['Venue Category'].str.contains('Restaurant')]"
   ]
  },
  {
   "cell_type": "code",
   "execution_count": 74,
   "metadata": {},
   "outputs": [
    {
     "data": {
      "text/html": [
       "<div>\n",
       "<style scoped>\n",
       "    .dataframe tbody tr th:only-of-type {\n",
       "        vertical-align: middle;\n",
       "    }\n",
       "\n",
       "    .dataframe tbody tr th {\n",
       "        vertical-align: top;\n",
       "    }\n",
       "\n",
       "    .dataframe thead th {\n",
       "        text-align: right;\n",
       "    }\n",
       "</style>\n",
       "<table border=\"1\" class=\"dataframe\">\n",
       "  <thead>\n",
       "    <tr style=\"text-align: right;\">\n",
       "      <th></th>\n",
       "      <th>Neighborhood</th>\n",
       "      <th>Neighborhood Latitude</th>\n",
       "      <th>Neighborhood Longitude</th>\n",
       "      <th>Venue</th>\n",
       "      <th>Venue Latitude</th>\n",
       "      <th>Venue Longitude</th>\n",
       "      <th>Venue Category</th>\n",
       "    </tr>\n",
       "  </thead>\n",
       "  <tbody>\n",
       "    <tr>\n",
       "      <th>0</th>\n",
       "      <td>Flemingdon Park</td>\n",
       "      <td>43.725900</td>\n",
       "      <td>-79.340923</td>\n",
       "      <td>Sorento Restaurant</td>\n",
       "      <td>43.726575</td>\n",
       "      <td>-79.341989</td>\n",
       "      <td>Italian Restaurant</td>\n",
       "    </tr>\n",
       "    <tr>\n",
       "      <th>6</th>\n",
       "      <td>Flemingdon Park</td>\n",
       "      <td>43.725900</td>\n",
       "      <td>-79.340923</td>\n",
       "      <td>Kaiseki Yu-Zen Hashimoto</td>\n",
       "      <td>43.720931</td>\n",
       "      <td>-79.337185</td>\n",
       "      <td>Japanese Restaurant</td>\n",
       "    </tr>\n",
       "    <tr>\n",
       "      <th>7</th>\n",
       "      <td>Flemingdon Park</td>\n",
       "      <td>43.725900</td>\n",
       "      <td>-79.340923</td>\n",
       "      <td>Swiss Chalet Rotisserie &amp; Grill</td>\n",
       "      <td>43.726737</td>\n",
       "      <td>-79.341403</td>\n",
       "      <td>Restaurant</td>\n",
       "    </tr>\n",
       "    <tr>\n",
       "      <th>8</th>\n",
       "      <td>Flemingdon Park</td>\n",
       "      <td>43.725900</td>\n",
       "      <td>-79.340923</td>\n",
       "      <td>Diwan</td>\n",
       "      <td>43.725002</td>\n",
       "      <td>-79.332019</td>\n",
       "      <td>Middle Eastern Restaurant</td>\n",
       "    </tr>\n",
       "    <tr>\n",
       "      <th>9</th>\n",
       "      <td>Flemingdon Park</td>\n",
       "      <td>43.725900</td>\n",
       "      <td>-79.340923</td>\n",
       "      <td>JOEY Don Mills</td>\n",
       "      <td>43.733990</td>\n",
       "      <td>-79.344734</td>\n",
       "      <td>Restaurant</td>\n",
       "    </tr>\n",
       "    <tr>\n",
       "      <th>30</th>\n",
       "      <td>Jamestown</td>\n",
       "      <td>43.739416</td>\n",
       "      <td>-79.588437</td>\n",
       "      <td>McDonald's</td>\n",
       "      <td>43.741757</td>\n",
       "      <td>-79.584230</td>\n",
       "      <td>Fast Food Restaurant</td>\n",
       "    </tr>\n",
       "    <tr>\n",
       "      <th>32</th>\n",
       "      <td>Jamestown</td>\n",
       "      <td>43.739416</td>\n",
       "      <td>-79.588437</td>\n",
       "      <td>NORI SUSHI</td>\n",
       "      <td>43.742775</td>\n",
       "      <td>-79.586985</td>\n",
       "      <td>Japanese Restaurant</td>\n",
       "    </tr>\n",
       "    <tr>\n",
       "      <th>36</th>\n",
       "      <td>Malvern</td>\n",
       "      <td>43.806686</td>\n",
       "      <td>-79.194353</td>\n",
       "      <td>Caribbean Wave</td>\n",
       "      <td>43.798558</td>\n",
       "      <td>-79.195777</td>\n",
       "      <td>Caribbean Restaurant</td>\n",
       "    </tr>\n",
       "    <tr>\n",
       "      <th>37</th>\n",
       "      <td>Malvern</td>\n",
       "      <td>43.806686</td>\n",
       "      <td>-79.194353</td>\n",
       "      <td>Wendy's</td>\n",
       "      <td>43.802008</td>\n",
       "      <td>-79.198080</td>\n",
       "      <td>Fast Food Restaurant</td>\n",
       "    </tr>\n",
       "    <tr>\n",
       "      <th>38</th>\n",
       "      <td>Malvern</td>\n",
       "      <td>43.806686</td>\n",
       "      <td>-79.194353</td>\n",
       "      <td>Wendy's</td>\n",
       "      <td>43.807448</td>\n",
       "      <td>-79.199056</td>\n",
       "      <td>Fast Food Restaurant</td>\n",
       "    </tr>\n",
       "    <tr>\n",
       "      <th>40</th>\n",
       "      <td>Malvern</td>\n",
       "      <td>43.806686</td>\n",
       "      <td>-79.194353</td>\n",
       "      <td>Harvey's</td>\n",
       "      <td>43.800106</td>\n",
       "      <td>-79.198258</td>\n",
       "      <td>Fast Food Restaurant</td>\n",
       "    </tr>\n",
       "    <tr>\n",
       "      <th>46</th>\n",
       "      <td>Malvern</td>\n",
       "      <td>43.806686</td>\n",
       "      <td>-79.194353</td>\n",
       "      <td>Mr Jerk</td>\n",
       "      <td>43.801262</td>\n",
       "      <td>-79.199758</td>\n",
       "      <td>African Restaurant</td>\n",
       "    </tr>\n",
       "    <tr>\n",
       "      <th>48</th>\n",
       "      <td>Malvern</td>\n",
       "      <td>43.806686</td>\n",
       "      <td>-79.194353</td>\n",
       "      <td>Charley's Exotic Cuisine</td>\n",
       "      <td>43.800982</td>\n",
       "      <td>-79.200233</td>\n",
       "      <td>Chinese Restaurant</td>\n",
       "    </tr>\n",
       "    <tr>\n",
       "      <th>56</th>\n",
       "      <td>Rouge</td>\n",
       "      <td>43.806686</td>\n",
       "      <td>-79.194353</td>\n",
       "      <td>Caribbean Wave</td>\n",
       "      <td>43.798558</td>\n",
       "      <td>-79.195777</td>\n",
       "      <td>Caribbean Restaurant</td>\n",
       "    </tr>\n",
       "    <tr>\n",
       "      <th>57</th>\n",
       "      <td>Rouge</td>\n",
       "      <td>43.806686</td>\n",
       "      <td>-79.194353</td>\n",
       "      <td>Wendy's</td>\n",
       "      <td>43.802008</td>\n",
       "      <td>-79.198080</td>\n",
       "      <td>Fast Food Restaurant</td>\n",
       "    </tr>\n",
       "    <tr>\n",
       "      <th>58</th>\n",
       "      <td>Rouge</td>\n",
       "      <td>43.806686</td>\n",
       "      <td>-79.194353</td>\n",
       "      <td>Wendy's</td>\n",
       "      <td>43.807448</td>\n",
       "      <td>-79.199056</td>\n",
       "      <td>Fast Food Restaurant</td>\n",
       "    </tr>\n",
       "    <tr>\n",
       "      <th>60</th>\n",
       "      <td>Rouge</td>\n",
       "      <td>43.806686</td>\n",
       "      <td>-79.194353</td>\n",
       "      <td>Harvey's</td>\n",
       "      <td>43.800106</td>\n",
       "      <td>-79.198258</td>\n",
       "      <td>Fast Food Restaurant</td>\n",
       "    </tr>\n",
       "    <tr>\n",
       "      <th>66</th>\n",
       "      <td>Rouge</td>\n",
       "      <td>43.806686</td>\n",
       "      <td>-79.194353</td>\n",
       "      <td>Mr Jerk</td>\n",
       "      <td>43.801262</td>\n",
       "      <td>-79.199758</td>\n",
       "      <td>African Restaurant</td>\n",
       "    </tr>\n",
       "    <tr>\n",
       "      <th>68</th>\n",
       "      <td>Rouge</td>\n",
       "      <td>43.806686</td>\n",
       "      <td>-79.194353</td>\n",
       "      <td>Charley's Exotic Cuisine</td>\n",
       "      <td>43.800982</td>\n",
       "      <td>-79.200233</td>\n",
       "      <td>Chinese Restaurant</td>\n",
       "    </tr>\n",
       "  </tbody>\n",
       "</table>\n",
       "</div>"
      ],
      "text/plain": [
       "       Neighborhood  Neighborhood Latitude  Neighborhood Longitude  \\\n",
       "0   Flemingdon Park              43.725900              -79.340923   \n",
       "6   Flemingdon Park              43.725900              -79.340923   \n",
       "7   Flemingdon Park              43.725900              -79.340923   \n",
       "8   Flemingdon Park              43.725900              -79.340923   \n",
       "9   Flemingdon Park              43.725900              -79.340923   \n",
       "30        Jamestown              43.739416              -79.588437   \n",
       "32        Jamestown              43.739416              -79.588437   \n",
       "36          Malvern              43.806686              -79.194353   \n",
       "37          Malvern              43.806686              -79.194353   \n",
       "38          Malvern              43.806686              -79.194353   \n",
       "40          Malvern              43.806686              -79.194353   \n",
       "46          Malvern              43.806686              -79.194353   \n",
       "48          Malvern              43.806686              -79.194353   \n",
       "56            Rouge              43.806686              -79.194353   \n",
       "57            Rouge              43.806686              -79.194353   \n",
       "58            Rouge              43.806686              -79.194353   \n",
       "60            Rouge              43.806686              -79.194353   \n",
       "66            Rouge              43.806686              -79.194353   \n",
       "68            Rouge              43.806686              -79.194353   \n",
       "\n",
       "                              Venue  Venue Latitude  Venue Longitude  \\\n",
       "0                Sorento Restaurant       43.726575       -79.341989   \n",
       "6          Kaiseki Yu-Zen Hashimoto       43.720931       -79.337185   \n",
       "7   Swiss Chalet Rotisserie & Grill       43.726737       -79.341403   \n",
       "8                             Diwan       43.725002       -79.332019   \n",
       "9                    JOEY Don Mills       43.733990       -79.344734   \n",
       "30                       McDonald's       43.741757       -79.584230   \n",
       "32                       NORI SUSHI       43.742775       -79.586985   \n",
       "36                   Caribbean Wave       43.798558       -79.195777   \n",
       "37                          Wendy's       43.802008       -79.198080   \n",
       "38                          Wendy's       43.807448       -79.199056   \n",
       "40                         Harvey's       43.800106       -79.198258   \n",
       "46                          Mr Jerk       43.801262       -79.199758   \n",
       "48         Charley's Exotic Cuisine       43.800982       -79.200233   \n",
       "56                   Caribbean Wave       43.798558       -79.195777   \n",
       "57                          Wendy's       43.802008       -79.198080   \n",
       "58                          Wendy's       43.807448       -79.199056   \n",
       "60                         Harvey's       43.800106       -79.198258   \n",
       "66                          Mr Jerk       43.801262       -79.199758   \n",
       "68         Charley's Exotic Cuisine       43.800982       -79.200233   \n",
       "\n",
       "               Venue Category  \n",
       "0          Italian Restaurant  \n",
       "6         Japanese Restaurant  \n",
       "7                  Restaurant  \n",
       "8   Middle Eastern Restaurant  \n",
       "9                  Restaurant  \n",
       "30       Fast Food Restaurant  \n",
       "32        Japanese Restaurant  \n",
       "36       Caribbean Restaurant  \n",
       "37       Fast Food Restaurant  \n",
       "38       Fast Food Restaurant  \n",
       "40       Fast Food Restaurant  \n",
       "46         African Restaurant  \n",
       "48         Chinese Restaurant  \n",
       "56       Caribbean Restaurant  \n",
       "57       Fast Food Restaurant  \n",
       "58       Fast Food Restaurant  \n",
       "60       Fast Food Restaurant  \n",
       "66         African Restaurant  \n",
       "68         Chinese Restaurant  "
      ]
     },
     "execution_count": 74,
     "metadata": {},
     "output_type": "execute_result"
    }
   ],
   "source": [
    "Indian_neighborhood_restaurant_venues"
   ]
  },
  {
   "cell_type": "code",
   "execution_count": 75,
   "metadata": {},
   "outputs": [],
   "source": [
    "Indian_neighborhood_restaurants_stat = Indian_neighborhood_restaurant_venues.groupby(['Neighborhood'])['Venue'].count().to_frame()\n",
    "Indian_neighborhood_restaurants_stat = Indian_neighborhood_restaurants_stat.reset_index()"
   ]
  },
  {
   "cell_type": "markdown",
   "metadata": {},
   "source": [
    "#### Restaurant venues per Indian Neighborhood "
   ]
  },
  {
   "cell_type": "code",
   "execution_count": 76,
   "metadata": {},
   "outputs": [
    {
     "data": {
      "image/png": "[encoded data removed]",
      "text/plain": [
       "<Figure size 432x576 with 1 Axes>"
      ]
     },
     "metadata": {
      "needs_background": "light"
     },
     "output_type": "display_data"
    }
   ],
   "source": [
    "import seaborn as sns\n",
    "\n",
    "f, ax = plt.subplots(figsize = (6,8))\n",
    "sns.set_color_codes('pastel')\n",
    "sns.barplot(x = 'Neighborhood', y = 'Venue', data = Indian_neighborhood_stat,\n",
    "            label = 'All Venues', color = 'b', edgecolor = 'w')\n",
    "sns.set_color_codes('muted')\n",
    "sns.barplot(x = 'Neighborhood', y = 'Venue', data = Indian_neighborhood_restaurants_stat,\n",
    "            label = 'Restaurants', color = 'b', edgecolor = 'w')\n",
    "ax.legend(ncol = 2, loc = 'upper right', fontsize=10)\n",
    "plt.xticks(rotation=45, fontsize=12)\n",
    "plt.yticks(fontsize=10)\n",
    "plt.xlabel('Neighborhood',fontsize=12)\n",
    "plt.ylabel('Venue Count', fontsize=10)\n",
    "sns.despine(left = True, bottom = True)\n",
    "plt.show()"
   ]
  },
  {
   "cell_type": "markdown",
   "metadata": {},
   "source": [
    "### Cluster Indian Neighborhoods via KMeans Clustering"
   ]
  },
  {
   "cell_type": "code",
   "execution_count": 77,
   "metadata": {},
   "outputs": [],
   "source": [
    "# one hot encoding\n",
    "Indian_neighborhood_onehot = pd.get_dummies(Indian_neighborhood_venues[['Venue Category']], prefix=\"\", prefix_sep=\"\")\n",
    "\n",
    "Indian_neighborhood_onehot2 = Indian_neighborhood_onehot.assign(neighborhood = Indian_neighborhood_venues[\"Neighborhood\"].to_list())\n",
    "\n",
    "fixed_columns = [Indian_neighborhood_onehot2.columns[-1]] + list(Indian_neighborhood_onehot2.columns[:-1])\n",
    "Indian_neighborhood_onehot2 = Indian_neighborhood_onehot2[fixed_columns]\n",
    "\n"
   ]
  },
  {
   "cell_type": "code",
   "execution_count": 78,
   "metadata": {
    "scrolled": true
   },
   "outputs": [
    {
     "data": {
      "text/html": [
       "<div>\n",
       "<style scoped>\n",
       "    .dataframe tbody tr th:only-of-type {\n",
       "        vertical-align: middle;\n",
       "    }\n",
       "\n",
       "    .dataframe tbody tr th {\n",
       "        vertical-align: top;\n",
       "    }\n",
       "\n",
       "    .dataframe thead th {\n",
       "        text-align: right;\n",
       "    }\n",
       "</style>\n",
       "<table border=\"1\" class=\"dataframe\">\n",
       "  <thead>\n",
       "    <tr style=\"text-align: right;\">\n",
       "      <th></th>\n",
       "      <th>neighborhood</th>\n",
       "      <th>African Restaurant</th>\n",
       "      <th>Arts &amp; Crafts Store</th>\n",
       "      <th>Bank</th>\n",
       "      <th>Bar</th>\n",
       "      <th>Beer Store</th>\n",
       "      <th>Bike Shop</th>\n",
       "      <th>Burger Joint</th>\n",
       "      <th>Bus Line</th>\n",
       "      <th>Bus Station</th>\n",
       "      <th>...</th>\n",
       "      <th>Pharmacy</th>\n",
       "      <th>Pizza Place</th>\n",
       "      <th>Rental Car Location</th>\n",
       "      <th>Restaurant</th>\n",
       "      <th>Sandwich Place</th>\n",
       "      <th>Spa</th>\n",
       "      <th>Sporting Goods Shop</th>\n",
       "      <th>Supermarket</th>\n",
       "      <th>Trail</th>\n",
       "      <th>Women's Store</th>\n",
       "    </tr>\n",
       "  </thead>\n",
       "  <tbody>\n",
       "    <tr>\n",
       "      <th>0</th>\n",
       "      <td>Flemingdon Park</td>\n",
       "      <td>0</td>\n",
       "      <td>0</td>\n",
       "      <td>0</td>\n",
       "      <td>0</td>\n",
       "      <td>0</td>\n",
       "      <td>0</td>\n",
       "      <td>0</td>\n",
       "      <td>0</td>\n",
       "      <td>0</td>\n",
       "      <td>...</td>\n",
       "      <td>0</td>\n",
       "      <td>0</td>\n",
       "      <td>0</td>\n",
       "      <td>0</td>\n",
       "      <td>0</td>\n",
       "      <td>0</td>\n",
       "      <td>0</td>\n",
       "      <td>0</td>\n",
       "      <td>0</td>\n",
       "      <td>0</td>\n",
       "    </tr>\n",
       "    <tr>\n",
       "      <th>1</th>\n",
       "      <td>Flemingdon Park</td>\n",
       "      <td>0</td>\n",
       "      <td>0</td>\n",
       "      <td>0</td>\n",
       "      <td>0</td>\n",
       "      <td>0</td>\n",
       "      <td>0</td>\n",
       "      <td>0</td>\n",
       "      <td>0</td>\n",
       "      <td>0</td>\n",
       "      <td>...</td>\n",
       "      <td>0</td>\n",
       "      <td>0</td>\n",
       "      <td>0</td>\n",
       "      <td>0</td>\n",
       "      <td>0</td>\n",
       "      <td>0</td>\n",
       "      <td>0</td>\n",
       "      <td>0</td>\n",
       "      <td>0</td>\n",
       "      <td>0</td>\n",
       "    </tr>\n",
       "    <tr>\n",
       "      <th>2</th>\n",
       "      <td>Flemingdon Park</td>\n",
       "      <td>0</td>\n",
       "      <td>0</td>\n",
       "      <td>0</td>\n",
       "      <td>0</td>\n",
       "      <td>0</td>\n",
       "      <td>0</td>\n",
       "      <td>0</td>\n",
       "      <td>0</td>\n",
       "      <td>0</td>\n",
       "      <td>...</td>\n",
       "      <td>0</td>\n",
       "      <td>0</td>\n",
       "      <td>0</td>\n",
       "      <td>0</td>\n",
       "      <td>0</td>\n",
       "      <td>0</td>\n",
       "      <td>0</td>\n",
       "      <td>0</td>\n",
       "      <td>0</td>\n",
       "      <td>0</td>\n",
       "    </tr>\n",
       "    <tr>\n",
       "      <th>3</th>\n",
       "      <td>Flemingdon Park</td>\n",
       "      <td>0</td>\n",
       "      <td>0</td>\n",
       "      <td>0</td>\n",
       "      <td>0</td>\n",
       "      <td>0</td>\n",
       "      <td>0</td>\n",
       "      <td>0</td>\n",
       "      <td>0</td>\n",
       "      <td>0</td>\n",
       "      <td>...</td>\n",
       "      <td>0</td>\n",
       "      <td>0</td>\n",
       "      <td>0</td>\n",
       "      <td>0</td>\n",
       "      <td>0</td>\n",
       "      <td>0</td>\n",
       "      <td>0</td>\n",
       "      <td>0</td>\n",
       "      <td>0</td>\n",
       "      <td>0</td>\n",
       "    </tr>\n",
       "    <tr>\n",
       "      <th>4</th>\n",
       "      <td>Flemingdon Park</td>\n",
       "      <td>0</td>\n",
       "      <td>0</td>\n",
       "      <td>0</td>\n",
       "      <td>0</td>\n",
       "      <td>0</td>\n",
       "      <td>0</td>\n",
       "      <td>0</td>\n",
       "      <td>0</td>\n",
       "      <td>0</td>\n",
       "      <td>...</td>\n",
       "      <td>0</td>\n",
       "      <td>0</td>\n",
       "      <td>0</td>\n",
       "      <td>0</td>\n",
       "      <td>0</td>\n",
       "      <td>0</td>\n",
       "      <td>0</td>\n",
       "      <td>0</td>\n",
       "      <td>0</td>\n",
       "      <td>0</td>\n",
       "    </tr>\n",
       "  </tbody>\n",
       "</table>\n",
       "<p>5 rows × 41 columns</p>\n",
       "</div>"
      ],
      "text/plain": [
       "      neighborhood  African Restaurant  Arts & Crafts Store  Bank  Bar  \\\n",
       "0  Flemingdon Park                   0                    0     0    0   \n",
       "1  Flemingdon Park                   0                    0     0    0   \n",
       "2  Flemingdon Park                   0                    0     0    0   \n",
       "3  Flemingdon Park                   0                    0     0    0   \n",
       "4  Flemingdon Park                   0                    0     0    0   \n",
       "\n",
       "   Beer Store  Bike Shop  Burger Joint  Bus Line  Bus Station  ...  Pharmacy  \\\n",
       "0           0          0             0         0            0  ...         0   \n",
       "1           0          0             0         0            0  ...         0   \n",
       "2           0          0             0         0            0  ...         0   \n",
       "3           0          0             0         0            0  ...         0   \n",
       "4           0          0             0         0            0  ...         0   \n",
       "\n",
       "   Pizza Place  Rental Car Location  Restaurant  Sandwich Place  Spa  \\\n",
       "0            0                    0           0               0    0   \n",
       "1            0                    0           0               0    0   \n",
       "2            0                    0           0               0    0   \n",
       "3            0                    0           0               0    0   \n",
       "4            0                    0           0               0    0   \n",
       "\n",
       "   Sporting Goods Shop  Supermarket  Trail  Women's Store  \n",
       "0                    0            0      0              0  \n",
       "1                    0            0      0              0  \n",
       "2                    0            0      0              0  \n",
       "3                    0            0      0              0  \n",
       "4                    0            0      0              0  \n",
       "\n",
       "[5 rows x 41 columns]"
      ]
     },
     "execution_count": 78,
     "metadata": {},
     "output_type": "execute_result"
    }
   ],
   "source": [
    "Indian_neighborhood_onehot2.head()"
   ]
  },
  {
   "cell_type": "markdown",
   "metadata": {},
   "source": [
    "##### Group rows by neighborhood by taking the mean of the frequency of occurrence of each category"
   ]
  },
  {
   "cell_type": "code",
   "execution_count": 79,
   "metadata": {},
   "outputs": [],
   "source": [
    "Indian_neighborhood_grouped = Indian_neighborhood_onehot2.groupby('neighborhood').mean().reset_index()"
   ]
  },
  {
   "cell_type": "code",
   "execution_count": 80,
   "metadata": {},
   "outputs": [
    {
     "data": {
      "text/html": [
       "<div>\n",
       "<style scoped>\n",
       "    .dataframe tbody tr th:only-of-type {\n",
       "        vertical-align: middle;\n",
       "    }\n",
       "\n",
       "    .dataframe tbody tr th {\n",
       "        vertical-align: top;\n",
       "    }\n",
       "\n",
       "    .dataframe thead th {\n",
       "        text-align: right;\n",
       "    }\n",
       "</style>\n",
       "<table border=\"1\" class=\"dataframe\">\n",
       "  <thead>\n",
       "    <tr style=\"text-align: right;\">\n",
       "      <th></th>\n",
       "      <th>neighborhood</th>\n",
       "      <th>African Restaurant</th>\n",
       "      <th>Arts &amp; Crafts Store</th>\n",
       "      <th>Bank</th>\n",
       "      <th>Bar</th>\n",
       "      <th>Beer Store</th>\n",
       "      <th>Bike Shop</th>\n",
       "      <th>Burger Joint</th>\n",
       "      <th>Bus Line</th>\n",
       "      <th>Bus Station</th>\n",
       "      <th>...</th>\n",
       "      <th>Pharmacy</th>\n",
       "      <th>Pizza Place</th>\n",
       "      <th>Rental Car Location</th>\n",
       "      <th>Restaurant</th>\n",
       "      <th>Sandwich Place</th>\n",
       "      <th>Spa</th>\n",
       "      <th>Sporting Goods Shop</th>\n",
       "      <th>Supermarket</th>\n",
       "      <th>Trail</th>\n",
       "      <th>Women's Store</th>\n",
       "    </tr>\n",
       "  </thead>\n",
       "  <tbody>\n",
       "    <tr>\n",
       "      <th>0</th>\n",
       "      <td>Flemingdon Park</td>\n",
       "      <td>0.000000</td>\n",
       "      <td>0.000000</td>\n",
       "      <td>0.05</td>\n",
       "      <td>0.05</td>\n",
       "      <td>0.050000</td>\n",
       "      <td>0.05</td>\n",
       "      <td>0.05</td>\n",
       "      <td>0.000000</td>\n",
       "      <td>0.000000</td>\n",
       "      <td>...</td>\n",
       "      <td>0.000000</td>\n",
       "      <td>0.0</td>\n",
       "      <td>0.0</td>\n",
       "      <td>0.1</td>\n",
       "      <td>0.000000</td>\n",
       "      <td>0.000000</td>\n",
       "      <td>0.05</td>\n",
       "      <td>0.05</td>\n",
       "      <td>0.000000</td>\n",
       "      <td>0.05</td>\n",
       "    </tr>\n",
       "    <tr>\n",
       "      <th>1</th>\n",
       "      <td>Jamestown</td>\n",
       "      <td>0.000000</td>\n",
       "      <td>0.000000</td>\n",
       "      <td>0.00</td>\n",
       "      <td>0.00</td>\n",
       "      <td>0.066667</td>\n",
       "      <td>0.00</td>\n",
       "      <td>0.00</td>\n",
       "      <td>0.066667</td>\n",
       "      <td>0.000000</td>\n",
       "      <td>...</td>\n",
       "      <td>0.066667</td>\n",
       "      <td>0.2</td>\n",
       "      <td>0.0</td>\n",
       "      <td>0.0</td>\n",
       "      <td>0.066667</td>\n",
       "      <td>0.000000</td>\n",
       "      <td>0.00</td>\n",
       "      <td>0.00</td>\n",
       "      <td>0.000000</td>\n",
       "      <td>0.00</td>\n",
       "    </tr>\n",
       "    <tr>\n",
       "      <th>2</th>\n",
       "      <td>Malvern</td>\n",
       "      <td>0.055556</td>\n",
       "      <td>0.055556</td>\n",
       "      <td>0.00</td>\n",
       "      <td>0.00</td>\n",
       "      <td>0.000000</td>\n",
       "      <td>0.00</td>\n",
       "      <td>0.00</td>\n",
       "      <td>0.000000</td>\n",
       "      <td>0.055556</td>\n",
       "      <td>...</td>\n",
       "      <td>0.000000</td>\n",
       "      <td>0.0</td>\n",
       "      <td>0.0</td>\n",
       "      <td>0.0</td>\n",
       "      <td>0.055556</td>\n",
       "      <td>0.055556</td>\n",
       "      <td>0.00</td>\n",
       "      <td>0.00</td>\n",
       "      <td>0.055556</td>\n",
       "      <td>0.00</td>\n",
       "    </tr>\n",
       "    <tr>\n",
       "      <th>3</th>\n",
       "      <td>Northwest</td>\n",
       "      <td>0.000000</td>\n",
       "      <td>0.000000</td>\n",
       "      <td>0.00</td>\n",
       "      <td>0.00</td>\n",
       "      <td>0.000000</td>\n",
       "      <td>0.00</td>\n",
       "      <td>0.00</td>\n",
       "      <td>0.000000</td>\n",
       "      <td>0.000000</td>\n",
       "      <td>...</td>\n",
       "      <td>0.000000</td>\n",
       "      <td>0.0</td>\n",
       "      <td>0.5</td>\n",
       "      <td>0.0</td>\n",
       "      <td>0.000000</td>\n",
       "      <td>0.000000</td>\n",
       "      <td>0.00</td>\n",
       "      <td>0.00</td>\n",
       "      <td>0.000000</td>\n",
       "      <td>0.00</td>\n",
       "    </tr>\n",
       "    <tr>\n",
       "      <th>4</th>\n",
       "      <td>Rouge</td>\n",
       "      <td>0.055556</td>\n",
       "      <td>0.055556</td>\n",
       "      <td>0.00</td>\n",
       "      <td>0.00</td>\n",
       "      <td>0.000000</td>\n",
       "      <td>0.00</td>\n",
       "      <td>0.00</td>\n",
       "      <td>0.000000</td>\n",
       "      <td>0.055556</td>\n",
       "      <td>...</td>\n",
       "      <td>0.000000</td>\n",
       "      <td>0.0</td>\n",
       "      <td>0.0</td>\n",
       "      <td>0.0</td>\n",
       "      <td>0.055556</td>\n",
       "      <td>0.055556</td>\n",
       "      <td>0.00</td>\n",
       "      <td>0.00</td>\n",
       "      <td>0.055556</td>\n",
       "      <td>0.00</td>\n",
       "    </tr>\n",
       "  </tbody>\n",
       "</table>\n",
       "<p>5 rows × 41 columns</p>\n",
       "</div>"
      ],
      "text/plain": [
       "      neighborhood  African Restaurant  Arts & Crafts Store  Bank   Bar  \\\n",
       "0  Flemingdon Park            0.000000             0.000000  0.05  0.05   \n",
       "1        Jamestown            0.000000             0.000000  0.00  0.00   \n",
       "2          Malvern            0.055556             0.055556  0.00  0.00   \n",
       "3        Northwest            0.000000             0.000000  0.00  0.00   \n",
       "4            Rouge            0.055556             0.055556  0.00  0.00   \n",
       "\n",
       "   Beer Store  Bike Shop  Burger Joint  Bus Line  Bus Station  ...  Pharmacy  \\\n",
       "0    0.050000       0.05          0.05  0.000000     0.000000  ...  0.000000   \n",
       "1    0.066667       0.00          0.00  0.066667     0.000000  ...  0.066667   \n",
       "2    0.000000       0.00          0.00  0.000000     0.055556  ...  0.000000   \n",
       "3    0.000000       0.00          0.00  0.000000     0.000000  ...  0.000000   \n",
       "4    0.000000       0.00          0.00  0.000000     0.055556  ...  0.000000   \n",
       "\n",
       "   Pizza Place  Rental Car Location  Restaurant  Sandwich Place       Spa  \\\n",
       "0          0.0                  0.0         0.1        0.000000  0.000000   \n",
       "1          0.2                  0.0         0.0        0.066667  0.000000   \n",
       "2          0.0                  0.0         0.0        0.055556  0.055556   \n",
       "3          0.0                  0.5         0.0        0.000000  0.000000   \n",
       "4          0.0                  0.0         0.0        0.055556  0.055556   \n",
       "\n",
       "   Sporting Goods Shop  Supermarket     Trail  Women's Store  \n",
       "0                 0.05         0.05  0.000000           0.05  \n",
       "1                 0.00         0.00  0.000000           0.00  \n",
       "2                 0.00         0.00  0.055556           0.00  \n",
       "3                 0.00         0.00  0.000000           0.00  \n",
       "4                 0.00         0.00  0.055556           0.00  \n",
       "\n",
       "[5 rows x 41 columns]"
      ]
     },
     "execution_count": 80,
     "metadata": {},
     "output_type": "execute_result"
    }
   ],
   "source": [
    "Indian_neighborhood_grouped"
   ]
  },
  {
   "cell_type": "code",
   "execution_count": 81,
   "metadata": {},
   "outputs": [],
   "source": [
    "Indian_neighborhood_grouped.drop(columns='neighborhood', inplace= True)"
   ]
  },
  {
   "cell_type": "markdown",
   "metadata": {},
   "source": [
    "##### Finding Optimal k using Elbow visualizer and Applying KMeans Algorithm"
   ]
  },
  {
   "cell_type": "code",
   "execution_count": 95,
   "metadata": {},
   "outputs": [],
   "source": [
    "Sum_of_squared_distances = []\n",
    "K = range(1,5)\n",
    "for k in K:\n",
    "    km = KMeans(n_clusters=k)\n",
    "    km = km.fit(Indian_neighborhood_grouped)\n",
    "    Sum_of_squared_distances.append(km.inertia_)"
   ]
  },
  {
   "cell_type": "code",
   "execution_count": 96,
   "metadata": {
    "scrolled": true
   },
   "outputs": [
    {
     "data": {
      "image/png": "[encoded data removed]",
      "text/plain": [
       "<Figure size 432x288 with 1 Axes>"
      ]
     },
     "metadata": {
      "needs_background": "light"
     },
     "output_type": "display_data"
    }
   ],
   "source": [
    "plt.plot(K, Sum_of_squared_distances, 'bx-')\n",
    "plt.xlabel('k')\n",
    "plt.ylabel('Sum_of_squared_distances')\n",
    "plt.title('Elbow Method For Optimal k')\n",
    "plt.show()"
   ]
  },
  {
   "cell_type": "code",
   "execution_count": 99,
   "metadata": {},
   "outputs": [
    {
     "data": {
      "text/plain": [
       "array([0, 0, 2, 1, 2], dtype=int32)"
      ]
     },
     "execution_count": 99,
     "metadata": {},
     "output_type": "execute_result"
    }
   ],
   "source": [
    "k = 3  # 3 seems best optimal value based on elbow method finding\n",
    "\n",
    "model = KMeans(n_clusters=k, random_state = 0)\n",
    "model.fit(Indian_neighborhood_grouped)\n",
    "model.labels_"
   ]
  },
  {
   "cell_type": "markdown",
   "metadata": {},
   "source": [
    "##### Sorting the Indian Neighborhood Postal Dataframe by Neighborhood in order to map the Clusters"
   ]
  },
  {
   "cell_type": "code",
   "execution_count": 83,
   "metadata": {},
   "outputs": [],
   "source": [
    "Indian_neighborhood = Indian_neighborhood.sort_values('Neighborhood', ascending= True).reset_index(drop = True)"
   ]
  },
  {
   "cell_type": "markdown",
   "metadata": {},
   "source": [
    "###### Appending the Clusters with respective Neighborhoods in Toronto Postal Dataframe"
   ]
  },
  {
   "cell_type": "code",
   "execution_count": 93,
   "metadata": {},
   "outputs": [],
   "source": [
    "Indian_neighborhood = Indian_neighborhood.assign(Cluster = model.labels_)"
   ]
  },
  {
   "cell_type": "code",
   "execution_count": 94,
   "metadata": {},
   "outputs": [
    {
     "data": {
      "text/html": [
       "<div>\n",
       "<style scoped>\n",
       "    .dataframe tbody tr th:only-of-type {\n",
       "        vertical-align: middle;\n",
       "    }\n",
       "\n",
       "    .dataframe tbody tr th {\n",
       "        vertical-align: top;\n",
       "    }\n",
       "\n",
       "    .dataframe thead th {\n",
       "        text-align: right;\n",
       "    }\n",
       "</style>\n",
       "<table border=\"1\" class=\"dataframe\">\n",
       "  <thead>\n",
       "    <tr style=\"text-align: right;\">\n",
       "      <th></th>\n",
       "      <th>Neighborhood</th>\n",
       "      <th>Top_Ethnic_Origin</th>\n",
       "      <th>PostalCode</th>\n",
       "      <th>Borough</th>\n",
       "      <th>Latitude</th>\n",
       "      <th>Longitude</th>\n",
       "      <th>Cluster</th>\n",
       "    </tr>\n",
       "  </thead>\n",
       "  <tbody>\n",
       "    <tr>\n",
       "      <th>0</th>\n",
       "      <td>Flemingdon Park</td>\n",
       "      <td>Indian</td>\n",
       "      <td>M3C</td>\n",
       "      <td>North York</td>\n",
       "      <td>43.725900</td>\n",
       "      <td>-79.340923</td>\n",
       "      <td>0</td>\n",
       "    </tr>\n",
       "    <tr>\n",
       "      <th>1</th>\n",
       "      <td>Jamestown</td>\n",
       "      <td>Indian</td>\n",
       "      <td>M9V</td>\n",
       "      <td>Etobicoke</td>\n",
       "      <td>43.739416</td>\n",
       "      <td>-79.588437</td>\n",
       "      <td>0</td>\n",
       "    </tr>\n",
       "    <tr>\n",
       "      <th>2</th>\n",
       "      <td>Malvern</td>\n",
       "      <td>Indian</td>\n",
       "      <td>M1B</td>\n",
       "      <td>Scarborough</td>\n",
       "      <td>43.806686</td>\n",
       "      <td>-79.194353</td>\n",
       "      <td>2</td>\n",
       "    </tr>\n",
       "    <tr>\n",
       "      <th>3</th>\n",
       "      <td>Northwest</td>\n",
       "      <td>Indian</td>\n",
       "      <td>M9W</td>\n",
       "      <td>Etobicoke</td>\n",
       "      <td>43.706748</td>\n",
       "      <td>-79.594054</td>\n",
       "      <td>1</td>\n",
       "    </tr>\n",
       "    <tr>\n",
       "      <th>4</th>\n",
       "      <td>Rouge</td>\n",
       "      <td>Indian</td>\n",
       "      <td>M1B</td>\n",
       "      <td>Scarborough</td>\n",
       "      <td>43.806686</td>\n",
       "      <td>-79.194353</td>\n",
       "      <td>2</td>\n",
       "    </tr>\n",
       "  </tbody>\n",
       "</table>\n",
       "</div>"
      ],
      "text/plain": [
       "      Neighborhood Top_Ethnic_Origin PostalCode      Borough   Latitude  \\\n",
       "0  Flemingdon Park            Indian        M3C   North York  43.725900   \n",
       "1        Jamestown            Indian        M9V    Etobicoke  43.739416   \n",
       "2          Malvern            Indian        M1B  Scarborough  43.806686   \n",
       "3        Northwest            Indian        M9W    Etobicoke  43.706748   \n",
       "4            Rouge            Indian        M1B  Scarborough  43.806686   \n",
       "\n",
       "   Longitude  Cluster  \n",
       "0 -79.340923        0  \n",
       "1 -79.588437        0  \n",
       "2 -79.194353        2  \n",
       "3 -79.594054        1  \n",
       "4 -79.194353        2  "
      ]
     },
     "execution_count": 94,
     "metadata": {},
     "output_type": "execute_result"
    }
   ],
   "source": [
    "Indian_neighborhood"
   ]
  },
  {
   "cell_type": "markdown",
   "metadata": {},
   "source": [
    "### Visualizing the Clusters "
   ]
  },
  {
   "cell_type": "code",
   "execution_count": 86,
   "metadata": {},
   "outputs": [],
   "source": [
    "# Toronto Coordinates\n",
    "Latitude = 43.6532\n",
    "Longitude = -79.3832"
   ]
  },
  {
   "cell_type": "code",
   "execution_count": 106,
   "metadata": {},
   "outputs": [
    {
     "data": {
      "text/html": [
       "<div style=\"width:100%;\"><div style=\"position:relative;width:100%;height:0;padding-bottom:60%;\"><iframe src=\"data:text/html;charset=utf-8;base64,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\" style=\"position:absolute;width:100%;height:100%;left:0;top:0;border:none !important;\" allowfullscreen webkitallowfullscreen mozallowfullscreen></iframe></div></div>"
      ],
      "text/plain": [
       "<folium.folium.Map at 0x7f1e4c906e10>"
      ]
     },
     "execution_count": 106,
     "metadata": {},
     "output_type": "execute_result"
    }
   ],
   "source": [
    "# Matplotlib and associated plotting modules\n",
    "import matplotlib.cm as cm\n",
    "import matplotlib.colors as colors\n",
    "import numpy as np\n",
    "\n",
    "# create map\n",
    "map_clusters = folium.Map(location=[Latitude, Longitude], zoom_start=11)\n",
    "kclusters = 3\n",
    "\n",
    "# set color scheme for the clusters\n",
    "x = np.arange(kclusters)\n",
    "ys = [i + x + (i*x)**2 for i in range(kclusters)]\n",
    "colors_array = cm.rainbow(np.linspace(0, 1, len(ys)))\n",
    "rainbow = [colors.rgb2hex(i) for i in colors_array]\n",
    "\n",
    "# add markers to the map\n",
    "markers_colors = []\n",
    "for lat, lon, poi, cluster in zip(Indian_neighborhood['Latitude'], Indian_neighborhood['Longitude'], Indian_neighborhood['Neighborhood'], Indian_neighborhood['Cluster']):\n",
    "    label = folium.Popup(str(poi) + ' Cluster ' + str(cluster), parse_html=True)\n",
    "    folium.CircleMarker(\n",
    "        [lat, lon],\n",
    "        radius=7,\n",
    "        popup=label,\n",
    "        color='Yellow',\n",
    "        fill=True,\n",
    "        fill_color=rainbow[cluster-1],\n",
    "        fill_opacity=0.9).add_to(map_clusters)\n",
    "       \n",
    "map_clusters"
   ]
  },
  {
   "cell_type": "markdown",
   "metadata": {},
   "source": [
    "### Favourable Location recommendation \n",
    "\n",
    "Based on the data exploration on Indian neighborhoods in Toronto, we can observe Flemingdon Park and Jamestown to be the best suitable locations to setup Indian restaurant.  \n",
    "\n",
    "Favourable points to justify the observation:\n",
    "\n",
    "1. Flemingdon Park and Jamestown has high percentage of Indian origin\n",
    "2. Being Indian Origin location, we dont see any Indian Restaurant venues at these locations, so the competition should be less\n",
    "3. In terms of Clusters, Cluster 0 - Jamestown and Flemingdon Park has more venues which will attract more people gatherings and thereby will attract them to the restaurant as well. Example - Groceries, Concert hall, Clothing stores. So having Indian restaurant at close proximities near these venues should give more advantage of pulling more customers.\n",
    "\n",
    "Malvern and Rouge cluster looks second best optimal location to setup Indian restaurant.\n"
   ]
  },
  {
   "cell_type": "code",
   "execution_count": null,
   "metadata": {},
   "outputs": [],
   "source": []
  }
 ],
 "metadata": {
  "kernelspec": {
   "display_name": "Python 3.6",
   "language": "python",
   "name": "python3"
  },
  "language_info": {
   "codemirror_mode": {
    "name": "ipython",
    "version": 3
   },
   "file_extension": ".py",
   "mimetype": "text/x-python",
   "name": "python",
   "nbconvert_exporter": "python",
   "pygments_lexer": "ipython3",
   "version": "3.6.8"
  }
 },
 "nbformat": 4,
 "nbformat_minor": 1
}

{
 "cells": [
  {
   "cell_type": "code",
   "execution_count": 161,
   "metadata": {
    "collapsed": false
   },
   "outputs": [
    {
     "name": "stdout",
     "output_type": "stream",
     "text": [
      "[['', 'year', 'month', 'intent', 'police', 'sex', 'age', 'race', 'hispanic', 'place', 'education'], ['1', '2012', '01', 'Suicide', '0', 'M', '34', 'Asian/Pacific Islander', '100', 'Home', '4'], ['2', '2012', '01', 'Suicide', '0', 'F', '21', 'White', '100', 'Street', '3'], ['3', '2012', '01', 'Suicide', '0', 'M', '60', 'White', '100', 'Other specified', '4'], ['4', '2012', '02', 'Suicide', '0', 'M', '64', 'White', '100', 'Home', '4']]\n"
     ]
    }
   ],
   "source": [
    "import csv\n",
    "f = open(\"guns.csv\",\"r\")\n",
    "data = csv.reader(f)\n",
    "data = list(data)\n",
    "print(data[0:5])"
   ]
  },
  {
   "cell_type": "code",
   "execution_count": 162,
   "metadata": {
    "collapsed": false
   },
   "outputs": [
    {
     "name": "stdout",
     "output_type": "stream",
     "text": [
      "[['', 'year', 'month', 'intent', 'police', 'sex', 'age', 'race', 'hispanic', 'place', 'education']]\n",
      "[['1', '2012', '01', 'Suicide', '0', 'M', '34', 'Asian/Pacific Islander', '100', 'Home', '4'], ['2', '2012', '01', 'Suicide', '0', 'F', '21', 'White', '100', 'Street', '3'], ['3', '2012', '01', 'Suicide', '0', 'M', '60', 'White', '100', 'Other specified', '4'], ['4', '2012', '02', 'Suicide', '0', 'M', '64', 'White', '100', 'Home', '4'], ['5', '2012', '02', 'Suicide', '0', 'M', '31', 'White', '100', 'Other specified', '2']]\n"
     ]
    }
   ],
   "source": [
    "headers = []\n",
    "headers = data[0:1]\n",
    "data = data[1:len(data)]\n",
    "print(headers)\n",
    "print(data[0:5])\n"
   ]
  },
  {
   "cell_type": "code",
   "execution_count": 163,
   "metadata": {
    "collapsed": false
   },
   "outputs": [
    {
     "name": "stdout",
     "output_type": "stream",
     "text": [
      "{'2012': 33563, '2014': 33599, '2013': 33636}\n"
     ]
    }
   ],
   "source": [
    "years = [r[1] for r in data]\n",
    "year_counts = {}\n",
    "for y in years:\n",
    "    if y in year_counts:\n",
    "        year_counts[y] += 1\n",
    "    else:\n",
    "        year_counts[y] = 1\n",
    "\n",
    "print(year_counts)"
   ]
  },
  {
   "cell_type": "code",
   "execution_count": 164,
   "metadata": {
    "collapsed": false
   },
   "outputs": [
    {
     "name": "stdout",
     "output_type": "stream",
     "text": [
      "{datetime.datetime(2012, 1, 1, 0, 0): 2758, datetime.datetime(2013, 9, 1, 0, 0): 2742, datetime.datetime(2012, 12, 1, 0, 0): 2791, datetime.datetime(2012, 8, 1, 0, 0): 2954, datetime.datetime(2013, 7, 1, 0, 0): 3079, datetime.datetime(2014, 12, 1, 0, 0): 2857, datetime.datetime(2014, 1, 1, 0, 0): 2651, datetime.datetime(2014, 9, 1, 0, 0): 2914, datetime.datetime(2012, 4, 1, 0, 0): 2795, datetime.datetime(2012, 7, 1, 0, 0): 3026, datetime.datetime(2014, 10, 1, 0, 0): 2865, datetime.datetime(2012, 5, 1, 0, 0): 2999, datetime.datetime(2014, 2, 1, 0, 0): 2361, datetime.datetime(2013, 4, 1, 0, 0): 2798, datetime.datetime(2013, 3, 1, 0, 0): 2862, datetime.datetime(2014, 8, 1, 0, 0): 2970, datetime.datetime(2012, 9, 1, 0, 0): 2852, datetime.datetime(2014, 11, 1, 0, 0): 2756, datetime.datetime(2014, 6, 1, 0, 0): 2931, datetime.datetime(2013, 1, 1, 0, 0): 2864, datetime.datetime(2012, 2, 1, 0, 0): 2357, datetime.datetime(2012, 11, 1, 0, 0): 2729, datetime.datetime(2013, 2, 1, 0, 0): 2375, datetime.datetime(2012, 3, 1, 0, 0): 2743, datetime.datetime(2014, 7, 1, 0, 0): 2884, datetime.datetime(2013, 11, 1, 0, 0): 2758, datetime.datetime(2012, 6, 1, 0, 0): 2826, datetime.datetime(2012, 10, 1, 0, 0): 2733, datetime.datetime(2014, 4, 1, 0, 0): 2862, datetime.datetime(2014, 3, 1, 0, 0): 2684, datetime.datetime(2013, 6, 1, 0, 0): 2920, datetime.datetime(2014, 5, 1, 0, 0): 2864, datetime.datetime(2013, 10, 1, 0, 0): 2808, datetime.datetime(2013, 5, 1, 0, 0): 2806, datetime.datetime(2013, 8, 1, 0, 0): 2859, datetime.datetime(2013, 12, 1, 0, 0): 2765}\n"
     ]
    }
   ],
   "source": [
    "import datetime\n",
    "dates = []\n",
    "for r in data:\n",
    "    d = datetime.datetime(year=int(r[1]), month=int(r[2]),day=1)\n",
    "    dates.append(d)\n",
    "#print(dates[0:5])\n",
    "date_counts = {}\n",
    "for d in dates:\n",
    "    if d in date_counts:\n",
    "        date_counts[d] += 1\n",
    "    else:\n",
    "        date_counts[d] = 1\n",
    "print(date_counts)"
   ]
  },
  {
   "cell_type": "code",
   "execution_count": 165,
   "metadata": {
    "collapsed": false
   },
   "outputs": [
    {
     "name": "stdout",
     "output_type": "stream",
     "text": [
      "{'M': 86349, 'F': 14449}\n",
      "{'Hispanic': 9022, 'White': 66237, 'Black': 23296, 'Native American/Native Alaskan': 917, 'Asian/Pacific Islander': 1326}\n"
     ]
    }
   ],
   "source": [
    "sex_counts = {} \n",
    "race_counts = {} \n",
    "for r in data: \n",
    "    if r[5] in sex_counts: \n",
    "        sex_counts[r[5]] += 1 \n",
    "    else: \n",
    "        sex_counts[r[5]] = 1\n",
    "    if r[7] in race_counts:\n",
    "        race_counts[r[7]] += 1\n",
    "    else:\n",
    "        race_counts[r[7]] = 1\n",
    "print(sex_counts) \n",
    "print(race_counts)"
   ]
  },
  {
   "cell_type": "markdown",
   "metadata": {},
   "source": [
    "Male count looks predominantly higher than famela deaths\n",
    "White Race is higher and Black stands out next to White\n"
   ]
  },
  {
   "cell_type": "code",
   "execution_count": 166,
   "metadata": {
    "collapsed": false
   },
   "outputs": [
    {
     "name": "stdout",
     "output_type": "stream",
     "text": [
      "[['Id', 'Year', 'Id', 'Sex', 'Id', 'Hispanic Origin', 'Id', 'Id2', 'Geography', 'Total', 'Race Alone - White', 'Race Alone - Hispanic', 'Race Alone - Black or African American', 'Race Alone - American Indian and Alaska Native', 'Race Alone - Asian', 'Race Alone - Native Hawaiian and Other Pacific Islander', 'Two or More Races'], ['cen42010', 'April 1, 2010 Census', 'totsex', 'Both Sexes', 'tothisp', 'Total', '0100000US', '', 'United States', '308745538', '197318956', '44618105', '40250635', '3739506', '15159516', '674625', '6984195']]\n"
     ]
    }
   ],
   "source": [
    "f = open(\"census.csv\",\"r\")\n",
    "data1 = csv.reader(f)\n",
    "census = list(data1)\n",
    "print(census)"
   ]
  },
  {
   "cell_type": "code",
   "execution_count": 167,
   "metadata": {
    "collapsed": false
   },
   "outputs": [
    {
     "name": "stdout",
     "output_type": "stream",
     "text": [
      "{'Hispanic': 9022, 'White': 66237, 'Black': 23296, 'Native American/Native Alaskan': 917, 'Asian/Pacific Islander': 1326}\n",
      "{'Hispanic': 44618105, 'Asian/Pacific Islander': 15834141, 'Black': 40250635, 'Native American/Native Alaskan': 3739506, 'White': 197318956}\n",
      "9022\n",
      "44618105\n",
      "66237\n",
      "197318956\n",
      "23296\n",
      "40250635\n",
      "917\n",
      "3739506\n",
      "1326\n",
      "15834141\n",
      "{'Hispanic': 20.220491210910907, 'Asian/Pacific Islander': 8.374309664161762, 'Black': 57.8773477735196, 'Native American/Native Alaskan': 24.521955573811088, 'White': 33.56849303419181}\n"
     ]
    }
   ],
   "source": [
    "print(race_counts)\n",
    "mapping = {}\n",
    "for i in race_counts:\n",
    "    mapping[i] = 0\n",
    "for i,r in enumerate(census):\n",
    "    if i == 1:\n",
    "        mapping[\"White\"] = int(r[10])\n",
    "        mapping[\"Hispanic\"] = int(r[11])\n",
    "        mapping[\"Black\"] = int(r[12])\n",
    "        mapping[\"Native American/Native Alaskan\"] = int(r[13])\n",
    "        mapping[\"Asian/Pacific Islander\"] = int(r[14]) + int(r[15])\n",
    "print(mapping)\n",
    "race_per_hundredk = {}\n",
    "for r in race_counts:\n",
    "    print(race_counts[r])\n",
    "    print(mapping[r])\n",
    "    val = (race_counts[r]/mapping[r])*100000\n",
    "    race_per_hundredk[r] = val\n",
    "print(race_per_hundredk)        \n",
    "    \n",
    "    \n",
    "    \n"
   ]
  },
  {
   "cell_type": "code",
   "execution_count": 168,
   "metadata": {
    "collapsed": false
   },
   "outputs": [
    {
     "name": "stdout",
     "output_type": "stream",
     "text": [
      "{'Hispanic': 5634, 'Asian/Pacific Islander': 559, 'Black': 19510, 'Native American/Native Alaskan': 326, 'White': 9147}\n",
      "{'Hispanic': 12.627161104219914, 'White': 4.6356417981453335, 'Black': 48.471284987180944, 'Native American/Native Alaskan': 8.717729026240365, 'Asian/Pacific Islander': 3.530346230970155}\n"
     ]
    }
   ],
   "source": [
    "intents = [r[3] for r in data]\n",
    "races = [r[7] for r in data]\n",
    "homicide_race = {}\n",
    "for i,j in enumerate(races):\n",
    "    if intents[i] == \"Homicide\":\n",
    "        if j in homicide_race:\n",
    "            homicide_race[j] += 1\n",
    "        else:\n",
    "            homicide_race[j] = 1\n",
    "print(homicide_race)\n",
    "homicide_race_per_hundredk = {}\n",
    "for r in homicide_race:\n",
    "    val = (homicide_race[r]/mapping[r])*100000\n",
    "    homicide_race_per_hundredk[r] = val\n",
    "print(homicide_race_per_hundredk)"
   ]
  },
  {
   "cell_type": "markdown",
   "metadata": {},
   "source": [
    "Above study initially showed White race gun deaths as predominantly higher than other races, but on drilling down against rate per 100000 factor - we see Black race gun deaths are higher than others. ALso we observe same results when drilled down further in terms of death intent as Homicide. We can study the data more drilling down in terms of age and place."
   ]
  }
 ],
 "metadata": {
  "kernelspec": {
   "display_name": "Python 3",
   "language": "python",
   "name": "python3"
  },
  "language_info": {
   "codemirror_mode": {
    "name": "ipython",
    "version": 3
   },
   "file_extension": ".py",
   "mimetype": "text/x-python",
   "name": "python",
   "nbconvert_exporter": "python",
   "pygments_lexer": "ipython3",
   "version": "3.4.3"
  }
 },
 "nbformat": 4,
 "nbformat_minor": 0
}
